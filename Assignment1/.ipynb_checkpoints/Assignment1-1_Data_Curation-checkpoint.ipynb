{
 "cells": [
  {
   "cell_type": "markdown",
   "metadata": {},
   "source": [
    "# M2177.003100 Deep Learning <br> Assignment #1 Part 1: Data Curation Practices"
   ]
  },
  {
   "cell_type": "markdown",
   "metadata": {},
   "source": [
    "Copyright (C) Data Science & AI Laboratory, Seoul National University. This material is for educational uses only. Some contents are based on the material provided by other paper/book authors and may be copyrighted by them. "
   ]
  },
  {
   "cell_type": "markdown",
   "metadata": {
    "colab_type": "text",
    "id": "5hIbr52I7Z7U"
   },
   "source": [
    "The objective of this assignment is to learn about simple data curation practices, and familiarize you with some of the data we'll be reusing later.\n",
    "\n",
    "This notebook uses the [notMNIST](http://yaroslavvb.blogspot.com/2011/09/notmnist-dataset.html) dataset to be used with python experiments. This dataset is designed to look like the classic [MNIST](http://yann.lecun.com/exdb/mnist/) dataset, while looking a little more like real data: it's a harder task, and the data is a lot less 'clean' than MNIST.\n",
    "\n",
    "**Note**: Certain details are missing or ambiguous on purpose, in order to test your knowledge on the related materials. However, if you really feel that something essential is missing and cannot proceed to the next step, then contact the teaching staff with clear description of your problem. The *Exercises* are self-evaluated assignments(**they are not included in your assignment score**). However, you must go through the exercises to perform well in further assignments.\n",
    "\n",
    "### Submitting your work:\n",
    "<font color=red>**DO NOT clear the final outputs**</font> so that TAs can grade both your code and results.  \n",
    "Once you have done **part 1 - 3**, run the *CollectSubmission.sh* script with your **Student number** as input argument. PLEASE comment any print/plot function in *Excercises* on submission. <br>\n",
    "This will produce a compressed file called *[Your student number].tar.gz*. Please submit this file on ETL. &nbsp;&nbsp; (Usage: ./*CollectSubmission.sh* &nbsp; 20\\*\\*-\\*\\*\\*\\*\\*)"
   ]
  },
  {
   "cell_type": "markdown",
   "metadata": {
    "colab_type": "text",
    "id": "jNWGtZaXn-5j"
   },
   "source": [
    "## Download datasets\n",
    "\n",
    "First, we'll download the dataset to our local machine. The data consists of characters rendered in a variety of fonts on a 28x28 image. The labels are limited to 'A' through 'J' (10 classes). The training set has about 500k and the testset 19000 labeled examples. Given these sizes, it should be possible to train models quickly on any machine."
   ]
  },
  {
   "cell_type": "code",
   "execution_count": 1,
   "metadata": {
    "cellView": "both",
    "colab": {
     "autoexec": {
      "startup": false,
      "wait_interval": 0
     }
    },
    "colab_type": "code",
    "id": "apJbCsBHl-2A"
   },
   "outputs": [],
   "source": [
    "# These are all the modules we'll be using later. Make sure you can import them\n",
    "# before proceeding further.\n",
    "from __future__ import print_function\n",
    "import matplotlib.pyplot as plt\n",
    "import numpy as np\n",
    "import os\n",
    "import sys\n",
    "import tarfile\n",
    "from IPython.display import display, Image\n",
    "from sklearn.linear_model import LogisticRegression\n",
    "from six.moves.urllib.request import urlretrieve\n",
    "from six.moves import cPickle as pickle\n",
    "\n",
    "# Config the matplotlib backend as plotting inline in IPython\n",
    "%matplotlib inline\n",
    "# PLEASE Comment this line on submission"
   ]
  },
  {
   "cell_type": "code",
   "execution_count": 4,
   "metadata": {
    "cellView": "both",
    "colab": {
     "autoexec": {
      "startup": false,
      "wait_interval": 0
     },
     "output_extras": [
      {
       "item_id": 1
      }
     ]
    },
    "colab_type": "code",
    "executionInfo": {
     "elapsed": 186058,
     "status": "ok",
     "timestamp": 1444485672507,
     "user": {
      "color": "#1FA15D",
      "displayName": "Vincent Vanhoucke",
      "isAnonymous": false,
      "isMe": true,
      "permissionId": "05076109866853157986",
      "photoUrl": "//lh6.googleusercontent.com/-cCJa7dTDcgQ/AAAAAAAAAAI/AAAAAAAACgw/r2EZ_8oYer4/s50-c-k-no/photo.jpg",
      "sessionId": "2a0a5e044bb03b66",
      "userId": "102167687554210253930"
     },
     "user_tz": 420
    },
    "id": "EYRJ4ICW6-da",
    "outputId": "0d0f85df-155f-4a89-8e7e-ee32df36ec8d",
    "tags": []
   },
   "outputs": [
    {
     "name": "stdout",
     "output_type": "stream",
     "text": [
      "Attempting to download: notMNIST_large.tar.gz\n",
      "0%....5%....10%....15%....20%....25%....30%....35%....40%....45%....50%....55%....60%....65%....70%....75%....80%....85%....90%....95%....100%\n",
      "Download Complete!\n",
      "Found and verified /home/jackyoung96/2020_2/Deeplearning_assignment/HW1_data/notMNIST_large.tar.gz\n",
      "Attempting to download: notMNIST_small.tar.gz\n",
      "0%....5%....10%....15%....20%....25%....30%....35%....40%....45%....50%....55%....60%....65%....70%....75%....80%....85%....90%....95%....100%\n",
      "Download Complete!\n",
      "Found and verified /home/jackyoung96/2020_2/Deeplearning_assignment/HW1_data/notMNIST_small.tar.gz\n"
     ]
    }
   ],
   "source": [
    "url = 'https://commondatastorage.googleapis.com/books1000/'\n",
    "last_percent_reported = None\n",
    "data_root = '/home/jackyoung96/2020_2/Deeplearning_assignment/HW1_data/' # Change me to store data elsewhere\n",
    "\n",
    "if not os.path.exists(data_root):\n",
    "    os.makedirs(data_root)\n",
    "\n",
    "def download_progress_hook(count, blockSize, totalSize):\n",
    "    \"\"\"A hook to report the progress of a download. This is mostly intended for users with\n",
    "    slow internet connections. Reports every 5% change in download progress.\n",
    "    \"\"\"\n",
    "    global last_percent_reported\n",
    "    percent = int(count * blockSize * 100 / totalSize)\n",
    "\n",
    "    if last_percent_reported != percent:\n",
    "        if percent % 5 == 0:\n",
    "            sys.stdout.write(\"%s%%\" % percent)\n",
    "            sys.stdout.flush()\n",
    "        else:\n",
    "            sys.stdout.write(\".\")\n",
    "            sys.stdout.flush()\n",
    "\n",
    "    last_percent_reported = percent\n",
    "        \n",
    "def maybe_download(filename, expected_bytes, force=False):\n",
    "    \"\"\"Download a file if not present, and make sure it's the right size.\"\"\"\n",
    "    dest_filename = os.path.join(data_root, filename)\n",
    "    if force or not os.path.exists(dest_filename):\n",
    "        print('Attempting to download:', filename) \n",
    "        filename, _ = urlretrieve(url + filename, dest_filename, reporthook=download_progress_hook)\n",
    "        print('\\nDownload Complete!')\n",
    "    statinfo = os.stat(dest_filename)\n",
    "    if statinfo.st_size == expected_bytes:\n",
    "        print('Found and verified', dest_filename)\n",
    "    else:\n",
    "        raise Exception(\n",
    "          'Failed to verify ' + dest_filename + '. Can you get to it with a browser?')\n",
    "    return dest_filename\n",
    "\n",
    "train_filename = maybe_download('notMNIST_large.tar.gz', 247336696)\n",
    "test_filename = maybe_download('notMNIST_small.tar.gz', 8458043)"
   ]
  },
  {
   "cell_type": "markdown",
   "metadata": {
    "colab_type": "text",
    "id": "cC3p0oEyF8QT"
   },
   "source": [
    "Extract the dataset from the compressed .tar.gz file.\n",
    "This should give you a set of directories, labeled A through J."
   ]
  },
  {
   "cell_type": "code",
   "execution_count": 5,
   "metadata": {
    "cellView": "both",
    "colab": {
     "autoexec": {
      "startup": false,
      "wait_interval": 0
     },
     "output_extras": [
      {
       "item_id": 1
      }
     ]
    },
    "colab_type": "code",
    "executionInfo": {
     "elapsed": 186055,
     "status": "ok",
     "timestamp": 1444485672525,
     "user": {
      "color": "#1FA15D",
      "displayName": "Vincent Vanhoucke",
      "isAnonymous": false,
      "isMe": true,
      "permissionId": "05076109866853157986",
      "photoUrl": "//lh6.googleusercontent.com/-cCJa7dTDcgQ/AAAAAAAAAAI/AAAAAAAACgw/r2EZ_8oYer4/s50-c-k-no/photo.jpg",
      "sessionId": "2a0a5e044bb03b66",
      "userId": "102167687554210253930"
     },
     "user_tz": 420
    },
    "id": "H8CBE-WZ8nmj",
    "outputId": "ef6c790c-2513-4b09-962e-27c79390c762",
    "tags": []
   },
   "outputs": [
    {
     "name": "stdout",
     "output_type": "stream",
     "text": [
      "Extracting data for /home/jackyoung96/2020_2/Deeplearning_assignment/HW1_data/notMNIST_large. This may take a while. Please wait.\n",
      "['/home/jackyoung96/2020_2/Deeplearning_assignment/HW1_data/notMNIST_large/A', '/home/jackyoung96/2020_2/Deeplearning_assignment/HW1_data/notMNIST_large/B', '/home/jackyoung96/2020_2/Deeplearning_assignment/HW1_data/notMNIST_large/C', '/home/jackyoung96/2020_2/Deeplearning_assignment/HW1_data/notMNIST_large/D', '/home/jackyoung96/2020_2/Deeplearning_assignment/HW1_data/notMNIST_large/E', '/home/jackyoung96/2020_2/Deeplearning_assignment/HW1_data/notMNIST_large/F', '/home/jackyoung96/2020_2/Deeplearning_assignment/HW1_data/notMNIST_large/G', '/home/jackyoung96/2020_2/Deeplearning_assignment/HW1_data/notMNIST_large/H', '/home/jackyoung96/2020_2/Deeplearning_assignment/HW1_data/notMNIST_large/I', '/home/jackyoung96/2020_2/Deeplearning_assignment/HW1_data/notMNIST_large/J']\n",
      "Extracting data for /home/jackyoung96/2020_2/Deeplearning_assignment/HW1_data/notMNIST_small. This may take a while. Please wait.\n",
      "['/home/jackyoung96/2020_2/Deeplearning_assignment/HW1_data/notMNIST_small/A', '/home/jackyoung96/2020_2/Deeplearning_assignment/HW1_data/notMNIST_small/B', '/home/jackyoung96/2020_2/Deeplearning_assignment/HW1_data/notMNIST_small/C', '/home/jackyoung96/2020_2/Deeplearning_assignment/HW1_data/notMNIST_small/D', '/home/jackyoung96/2020_2/Deeplearning_assignment/HW1_data/notMNIST_small/E', '/home/jackyoung96/2020_2/Deeplearning_assignment/HW1_data/notMNIST_small/F', '/home/jackyoung96/2020_2/Deeplearning_assignment/HW1_data/notMNIST_small/G', '/home/jackyoung96/2020_2/Deeplearning_assignment/HW1_data/notMNIST_small/H', '/home/jackyoung96/2020_2/Deeplearning_assignment/HW1_data/notMNIST_small/I', '/home/jackyoung96/2020_2/Deeplearning_assignment/HW1_data/notMNIST_small/J']\n"
     ]
    }
   ],
   "source": [
    "num_classes = 10\n",
    "np.random.seed(133)\n",
    "\n",
    "def maybe_extract(filename, force=False):\n",
    "    root = os.path.splitext(os.path.splitext(filename)[0])[0]  # remove .tar.gz\n",
    "    if os.path.isdir(root) and not force:\n",
    "    # You may override by setting force=True.\n",
    "        print('%s already present - Skipping extraction of %s.' % (root, filename))\n",
    "    else:\n",
    "        print('Extracting data for %s. This may take a while. Please wait.' % root)\n",
    "        tar = tarfile.open(filename)\n",
    "        sys.stdout.flush()\n",
    "        tar.extractall(data_root)\n",
    "        tar.close()\n",
    "    data_folders = [\n",
    "        os.path.join(root, d) for d in sorted(os.listdir(root))\n",
    "        if os.path.isdir(os.path.join(root, d))]\n",
    "    if len(data_folders) != num_classes:\n",
    "        raise Exception(\n",
    "          'Expected %d folders, one per class. Found %d instead.' % (\n",
    "            num_classes, len(data_folders)))\n",
    "    print(data_folders)\n",
    "    return data_folders\n",
    "  \n",
    "train_folders = maybe_extract(train_filename)\n",
    "test_folders = maybe_extract(test_filename)"
   ]
  },
  {
   "cell_type": "markdown",
   "metadata": {
    "colab_type": "text",
    "id": "4riXK3IoHgx6"
   },
   "source": [
    "---\n",
    "Excercise 1\n",
    "---------\n",
    "\n",
    "Let's take a peek at some of the data to make sure it looks sensible. Each exemplar should be an image of a character A through J rendered in a different font. Display a sample of the images that we just downloaded. Hint: you can use the package IPython.display Image method.\n",
    "\n",
    "---"
   ]
  },
  {
   "cell_type": "code",
   "execution_count": 18,
   "metadata": {
    "tags": []
   },
   "outputs": [
    {
     "name": "stdout",
     "output_type": "stream",
     "text": [
      "Use Image(filename=sample)\n",
      "    PLEASE comment the Image function in this block on submission \n"
     ]
    },
    {
     "data": {
      "image/png": "[encoded data removed]",
      "text/plain": [
       "<IPython.core.display.Image object>"
      ]
     },
     "execution_count": 18,
     "metadata": {},
     "output_type": "execute_result"
    }
   ],
   "source": [
    "print(__doc__)\n",
    "\"\"\" Use Image(filename=sample)\n",
    "    PLEASE comment the Image function in this block on submission \"\"\"\n",
    "file_names = os.listdir(test_folders[1])\n",
    "Image(filename=test_folders[1]+\"/\"+file_names[30])"
   ]
  },
  {
   "cell_type": "code",
   "execution_count": 20,
   "metadata": {
    "jupyter": {
     "source_hidden": true
    },
    "tags": []
   },
   "outputs": [
    {
     "name": "stdout",
     "output_type": "stream",
     "text": [
      "Use Image(filename=sample)\n",
      "    PLEASE comment the Image function in this block on submission \n"
     ]
    },
    {
     "data": {
      "image/png": "[encoded data removed]",
      "text/plain": [
       "<IPython.core.display.Image object>"
      ]
     },
     "metadata": {},
     "output_type": "display_data"
    },
    {
     "data": {
      "text/plain": [
       "' Use Image(filename=sample)\\n    PLEASE comment the Image function in this block on submission '"
      ]
     },
     "execution_count": 20,
     "metadata": {},
     "output_type": "execute_result"
    }
   ],
   "source": [
    "from IPython.display import Image, display\n",
    "\n",
    "print(__doc__)\n",
    "display(Image(filename= os.path.abspath('/home/jackyoung96/2020_2/Deeplearning_assignment/HW1_data/notMNIST_large/A/ZXVyb2Z1cmVuY2UgYm9sZGl0YWxpYy50dGY=.png')))\n",
    "     \n",
    "\"\"\" Use Image(filename=sample)\n",
    "    PLEASE comment the Image function in this block on submission \"\"\""
   ]
  },
  {
   "cell_type": "markdown",
   "metadata": {
    "colab_type": "text",
    "id": "PBdkjESPK8tw"
   },
   "source": [
    "## Load datasets\n",
    "\n",
    "Now let's load the data in a more manageable format. Since, depending on your computer setup you might not be able to fit it all in memory, we'll load each class into a separate dataset, store them on disk and curate them independently. Later we'll merge them into a single dataset of manageable size.\n",
    "\n",
    "We'll convert the entire dataset into a 3D array (image index, x, y) of floating point values.\n",
    "\n",
    "A few images might not be readable, we'll just skip them."
   ]
  },
  {
   "cell_type": "code",
   "execution_count": 21,
   "metadata": {
    "cellView": "both",
    "colab": {
     "autoexec": {
      "startup": false,
      "wait_interval": 0
     },
     "output_extras": [
      {
       "item_id": 30
      }
     ]
    },
    "colab_type": "code",
    "executionInfo": {
     "elapsed": 399874,
     "status": "ok",
     "timestamp": 1444485886378,
     "user": {
      "color": "#1FA15D",
      "displayName": "Vincent Vanhoucke",
      "isAnonymous": false,
      "isMe": true,
      "permissionId": "05076109866853157986",
      "photoUrl": "//lh6.googleusercontent.com/-cCJa7dTDcgQ/AAAAAAAAAAI/AAAAAAAACgw/r2EZ_8oYer4/s50-c-k-no/photo.jpg",
      "sessionId": "2a0a5e044bb03b66",
      "userId": "102167687554210253930"
     },
     "user_tz": 420
    },
    "id": "h7q0XhG3MJdf",
    "outputId": "92c391bb-86ff-431d-9ada-315568a19e59",
    "tags": []
   },
   "outputs": [
    {
     "name": "stdout",
     "output_type": "stream",
     "text": [
      "Pickling /home/jackyoung96/2020_2/Deeplearning_assignment/HW1_data/notMNIST_large/A.pickle.\n",
      "/home/jackyoung96/2020_2/Deeplearning_assignment/HW1_data/notMNIST_large/A\n",
      "Could not read: /home/jackyoung96/2020_2/Deeplearning_assignment/HW1_data/notMNIST_large/A/Um9tYW5hIEJvbGQucGZi.png : cannot identify image file '/home/jackyoung96/2020_2/Deeplearning_assignment/HW1_data/notMNIST_large/A/Um9tYW5hIEJvbGQucGZi.png' - it's ok, skipping.\n",
      "Could not read: /home/jackyoung96/2020_2/Deeplearning_assignment/HW1_data/notMNIST_large/A/SG90IE11c3RhcmQgQlROIFBvc3Rlci50dGY=.png : cannot identify image file '/home/jackyoung96/2020_2/Deeplearning_assignment/HW1_data/notMNIST_large/A/SG90IE11c3RhcmQgQlROIFBvc3Rlci50dGY=.png' - it's ok, skipping.\n",
      "Could not read: /home/jackyoung96/2020_2/Deeplearning_assignment/HW1_data/notMNIST_large/A/RnJlaWdodERpc3BCb29rSXRhbGljLnR0Zg==.png : cannot identify image file '/home/jackyoung96/2020_2/Deeplearning_assignment/HW1_data/notMNIST_large/A/RnJlaWdodERpc3BCb29rSXRhbGljLnR0Zg==.png' - it's ok, skipping.\n",
      "Full dataset tensor: (52909, 28, 28)\n",
      "Mean: -0.49854216\n",
      "Standard deviation: 0.0017377285\n",
      "Pickling /home/jackyoung96/2020_2/Deeplearning_assignment/HW1_data/notMNIST_large/B.pickle.\n",
      "/home/jackyoung96/2020_2/Deeplearning_assignment/HW1_data/notMNIST_large/B\n",
      "Could not read: /home/jackyoung96/2020_2/Deeplearning_assignment/HW1_data/notMNIST_large/B/TmlraXNFRi1TZW1pQm9sZEl0YWxpYy5vdGY=.png : cannot identify image file '/home/jackyoung96/2020_2/Deeplearning_assignment/HW1_data/notMNIST_large/B/TmlraXNFRi1TZW1pQm9sZEl0YWxpYy5vdGY=.png' - it's ok, skipping.\n",
      "Full dataset tensor: (52911, 28, 28)\n",
      "Mean: -0.49806872\n",
      "Standard deviation: 0.0017823185\n",
      "Pickling /home/jackyoung96/2020_2/Deeplearning_assignment/HW1_data/notMNIST_large/C.pickle.\n",
      "/home/jackyoung96/2020_2/Deeplearning_assignment/HW1_data/notMNIST_large/C\n",
      "Full dataset tensor: (52912, 28, 28)\n",
      "Mean: -0.49859688\n",
      "Standard deviation: 0.0017247315\n",
      "Pickling /home/jackyoung96/2020_2/Deeplearning_assignment/HW1_data/notMNIST_large/D.pickle.\n",
      "/home/jackyoung96/2020_2/Deeplearning_assignment/HW1_data/notMNIST_large/D\n",
      "Could not read: /home/jackyoung96/2020_2/Deeplearning_assignment/HW1_data/notMNIST_large/D/VHJhbnNpdCBCb2xkLnR0Zg==.png : cannot identify image file '/home/jackyoung96/2020_2/Deeplearning_assignment/HW1_data/notMNIST_large/D/VHJhbnNpdCBCb2xkLnR0Zg==.png' - it's ok, skipping.\n",
      "Full dataset tensor: (52911, 28, 28)\n",
      "Mean: -0.49826375\n",
      "Standard deviation: 0.0017868545\n",
      "Pickling /home/jackyoung96/2020_2/Deeplearning_assignment/HW1_data/notMNIST_large/E.pickle.\n",
      "/home/jackyoung96/2020_2/Deeplearning_assignment/HW1_data/notMNIST_large/E\n",
      "Full dataset tensor: (52912, 28, 28)\n",
      "Mean: -0.4983142\n",
      "Standard deviation: 0.0017762432\n",
      "Pickling /home/jackyoung96/2020_2/Deeplearning_assignment/HW1_data/notMNIST_large/F.pickle.\n",
      "/home/jackyoung96/2020_2/Deeplearning_assignment/HW1_data/notMNIST_large/F\n",
      "Full dataset tensor: (52912, 28, 28)\n",
      "Mean: -0.49853155\n",
      "Standard deviation: 0.0017532939\n",
      "Pickling /home/jackyoung96/2020_2/Deeplearning_assignment/HW1_data/notMNIST_large/G.pickle.\n",
      "/home/jackyoung96/2020_2/Deeplearning_assignment/HW1_data/notMNIST_large/G\n",
      "Full dataset tensor: (52912, 28, 28)\n",
      "Mean: -0.49840942\n",
      "Standard deviation: 0.0017499606\n",
      "Pickling /home/jackyoung96/2020_2/Deeplearning_assignment/HW1_data/notMNIST_large/H.pickle.\n",
      "/home/jackyoung96/2020_2/Deeplearning_assignment/HW1_data/notMNIST_large/H\n",
      "Full dataset tensor: (52912, 28, 28)\n",
      "Mean: -0.49830896\n",
      "Standard deviation: 0.001781301\n",
      "Pickling /home/jackyoung96/2020_2/Deeplearning_assignment/HW1_data/notMNIST_large/I.pickle.\n",
      "/home/jackyoung96/2020_2/Deeplearning_assignment/HW1_data/notMNIST_large/I\n",
      "Full dataset tensor: (52912, 28, 28)\n",
      "Mean: -0.49791795\n",
      "Standard deviation: 0.0018388175\n",
      "Pickling /home/jackyoung96/2020_2/Deeplearning_assignment/HW1_data/notMNIST_large/J.pickle.\n",
      "/home/jackyoung96/2020_2/Deeplearning_assignment/HW1_data/notMNIST_large/J\n",
      "Full dataset tensor: (52911, 28, 28)\n",
      "Mean: -0.49864072\n",
      "Standard deviation: 0.0017398297\n",
      "Pickling /home/jackyoung96/2020_2/Deeplearning_assignment/HW1_data/notMNIST_small/A.pickle.\n",
      "/home/jackyoung96/2020_2/Deeplearning_assignment/HW1_data/notMNIST_small/A\n",
      "Could not read: /home/jackyoung96/2020_2/Deeplearning_assignment/HW1_data/notMNIST_small/A/RGVtb2NyYXRpY2FCb2xkT2xkc3R5bGUgQm9sZC50dGY=.png : cannot identify image file '/home/jackyoung96/2020_2/Deeplearning_assignment/HW1_data/notMNIST_small/A/RGVtb2NyYXRpY2FCb2xkT2xkc3R5bGUgQm9sZC50dGY=.png' - it's ok, skipping.\n",
      "Full dataset tensor: (1872, 28, 28)\n",
      "Mean: -0.4985593\n",
      "Standard deviation: 0.0017455999\n",
      "Pickling /home/jackyoung96/2020_2/Deeplearning_assignment/HW1_data/notMNIST_small/B.pickle.\n",
      "/home/jackyoung96/2020_2/Deeplearning_assignment/HW1_data/notMNIST_small/B\n",
      "Full dataset tensor: (1873, 28, 28)\n",
      "Mean: -0.4980182\n",
      "Standard deviation: 0.0017926097\n",
      "Pickling /home/jackyoung96/2020_2/Deeplearning_assignment/HW1_data/notMNIST_small/C.pickle.\n",
      "/home/jackyoung96/2020_2/Deeplearning_assignment/HW1_data/notMNIST_small/C\n",
      "Full dataset tensor: (1873, 28, 28)\n",
      "Mean: -0.49859416\n",
      "Standard deviation: 0.0017360409\n",
      "Pickling /home/jackyoung96/2020_2/Deeplearning_assignment/HW1_data/notMNIST_small/D.pickle.\n",
      "/home/jackyoung96/2020_2/Deeplearning_assignment/HW1_data/notMNIST_small/D\n",
      "Full dataset tensor: (1873, 28, 28)\n",
      "Mean: -0.49823222\n",
      "Standard deviation: 0.0018029764\n",
      "Pickling /home/jackyoung96/2020_2/Deeplearning_assignment/HW1_data/notMNIST_small/E.pickle.\n",
      "/home/jackyoung96/2020_2/Deeplearning_assignment/HW1_data/notMNIST_small/E\n",
      "Full dataset tensor: (1873, 28, 28)\n",
      "Mean: -0.4982743\n",
      "Standard deviation: 0.0017935287\n",
      "Pickling /home/jackyoung96/2020_2/Deeplearning_assignment/HW1_data/notMNIST_small/F.pickle.\n",
      "/home/jackyoung96/2020_2/Deeplearning_assignment/HW1_data/notMNIST_small/F\n",
      "Could not read: /home/jackyoung96/2020_2/Deeplearning_assignment/HW1_data/notMNIST_small/F/Q3Jvc3NvdmVyIEJvbGRPYmxpcXVlLnR0Zg==.png : cannot identify image file '/home/jackyoung96/2020_2/Deeplearning_assignment/HW1_data/notMNIST_small/F/Q3Jvc3NvdmVyIEJvbGRPYmxpcXVlLnR0Zg==.png' - it's ok, skipping.\n",
      "Full dataset tensor: (1872, 28, 28)\n",
      "Mean: -0.49850276\n",
      "Standard deviation: 0.001773642\n",
      "Pickling /home/jackyoung96/2020_2/Deeplearning_assignment/HW1_data/notMNIST_small/G.pickle.\n",
      "/home/jackyoung96/2020_2/Deeplearning_assignment/HW1_data/notMNIST_small/G\n",
      "Full dataset tensor: (1872, 28, 28)\n",
      "Mean: -0.49840215\n",
      "Standard deviation: 0.001760808\n",
      "Pickling /home/jackyoung96/2020_2/Deeplearning_assignment/HW1_data/notMNIST_small/H.pickle.\n",
      "/home/jackyoung96/2020_2/Deeplearning_assignment/HW1_data/notMNIST_small/H\n",
      "Full dataset tensor: (1872, 28, 28)\n",
      "Mean: -0.49826944\n",
      "Standard deviation: 0.0017990551\n",
      "Pickling /home/jackyoung96/2020_2/Deeplearning_assignment/HW1_data/notMNIST_small/I.pickle.\n",
      "/home/jackyoung96/2020_2/Deeplearning_assignment/HW1_data/notMNIST_small/I\n",
      "Full dataset tensor: (1872, 28, 28)\n",
      "Mean: -0.4978327\n",
      "Standard deviation: 0.0018505628\n",
      "Pickling /home/jackyoung96/2020_2/Deeplearning_assignment/HW1_data/notMNIST_small/J.pickle.\n",
      "/home/jackyoung96/2020_2/Deeplearning_assignment/HW1_data/notMNIST_small/J\n",
      "Full dataset tensor: (1872, 28, 28)\n",
      "Mean: -0.49863413\n",
      "Standard deviation: 0.0017569163\n"
     ]
    }
   ],
   "source": [
    "image_size = 28  # Pixel width and height.\n",
    "pixel_depth = 255.0  # Number of levels per pixel.\n",
    "\n",
    "def load_letter(folder, min_num_images):\n",
    "    \"\"\"Load the data for a single letter label.\"\"\"\n",
    "    image_files = os.listdir(folder)\n",
    "    dataset = np.ndarray(shape=(len(image_files), image_size, image_size),\n",
    "                         dtype=np.float32)\n",
    "    print(folder)\n",
    "    num_images = 0\n",
    "    for image in image_files:\n",
    "        image_file = os.path.join(folder, image)\n",
    "        try:\n",
    "            # Normalize in  [-0.5,0.5]            \n",
    "            image_data = (plt.imread(image_file, 0).astype(float) - \n",
    "                        pixel_depth / 2) / pixel_depth\n",
    "            \n",
    "            if image_data.shape != (image_size, image_size):\n",
    "                raise Exception('Unexpected image shape: %s' % str(image_data.shape))\n",
    "            dataset[num_images, :, :] = image_data\n",
    "            num_images = num_images + 1\n",
    "        except IOError as e:\n",
    "            print('Could not read:', image_file, ':', e, '- it\\'s ok, skipping.')\n",
    "\n",
    "    dataset = dataset[0:num_images, :, :]\n",
    "    if num_images < min_num_images:\n",
    "        raise Exception('Many fewer images than expected: %d < %d' %\n",
    "                        (num_images, min_num_images))\n",
    "\n",
    "    print('Full dataset tensor:', dataset.shape)\n",
    "    print('Mean:', np.mean(dataset))\n",
    "    print('Standard deviation:', np.std(dataset))\n",
    "    return dataset\n",
    "        \n",
    "def maybe_pickle(data_folders, min_num_images_per_class, force=False):\n",
    "    dataset_names = []\n",
    "    for folder in data_folders:\n",
    "        set_filename = folder + '.pickle'\n",
    "        dataset_names.append(set_filename)\n",
    "        if os.path.exists(set_filename) and not force:\n",
    "          # You may override by setting force=True.\n",
    "          print('%s already present - Skipping pickling.' % set_filename)\n",
    "        else:\n",
    "            print('Pickling %s.' % set_filename)\n",
    "            dataset = load_letter(folder, min_num_images_per_class)\n",
    "            try:\n",
    "                with open(set_filename, 'wb') as f:\n",
    "                    pickle.dump(dataset, f, pickle.HIGHEST_PROTOCOL)\n",
    "            except Exception as e:\n",
    "                print('Unable to save data to', set_filename, ':', e)\n",
    "\n",
    "    return dataset_names\n",
    "\n",
    "train_datasets = maybe_pickle(train_folders, 45000)\n",
    "test_datasets = maybe_pickle(test_folders, 1800)"
   ]
  },
  {
   "cell_type": "markdown",
   "metadata": {
    "colab_type": "text",
    "id": "vUdbskYE2d87"
   },
   "source": [
    "---\n",
    "Exercise 2\n",
    "---------\n",
    "\n",
    "Let's verify that the data still looks good. Displaying a sample of the labels and images from the ndarray. *Hint*: you can use matplotlib.pyplot.\n",
    "\n",
    "---"
   ]
  },
  {
   "cell_type": "code",
   "execution_count": 22,
   "metadata": {
    "tags": []
   },
   "outputs": [
    {
     "name": "stdout",
     "output_type": "stream",
     "text": [
      "Use Image(filename=sample)\n",
      "    PLEASE comment the Image function in this block on submission \n"
     ]
    },
    {
     "data": {
      "text/plain": [
       "' PLEASE comment any print/plot function in this block on submission '"
      ]
     },
     "execution_count": 22,
     "metadata": {},
     "output_type": "execute_result"
    }
   ],
   "source": [
    "print(__doc__)\n",
    "\"\"\" PLEASE comment any print/plot function in this block on submission \"\"\""
   ]
  },
  {
   "cell_type": "code",
   "execution_count": 28,
   "metadata": {
    "jupyter": {
     "source_hidden": true
    },
    "tags": []
   },
   "outputs": [
    {
     "data": {
      "image/png": "[encoded data removed]",
      "image/svg+xml": [
       "<?xml version=\"1.0\" encoding=\"utf-8\" standalone=\"no\"?>\n",
       "<!DOCTYPE svg PUBLIC \"-//W3C//DTD SVG 1.1//EN\"\n",
       "  \"http://www.w3.org/Graphics/SVG/1.1/DTD/svg11.dtd\">\n",
       "<!-- Created with matplotlib (https://matplotlib.org/) -->\n",
       "<svg height=\"235.34pt\" version=\"1.1\" viewBox=\"0 0 320.1 235.34\" width=\"320.1pt\" xmlns=\"http://www.w3.org/2000/svg\" xmlns:xlink=\"http://www.w3.org/1999/xlink\">\n",
       " <metadata>\n",
       "  <rdf:RDF xmlns:cc=\"http://creativecommons.org/ns#\" xmlns:dc=\"http://purl.org/dc/elements/1.1/\" xmlns:rdf=\"http://www.w3.org/1999/02/22-rdf-syntax-ns#\">\n",
       "   <cc:Work>\n",
       "    <dc:type rdf:resource=\"http://purl.org/dc/dcmitype/StillImage\"/>\n",
       "    <dc:date>2020-09-24T19:59:32.764370</dc:date>\n",
       "    <dc:format>image/svg+xml</dc:format>\n",
       "    <dc:creator>\n",
       "     <cc:Agent>\n",
       "      <dc:title>Matplotlib v3.3.1, https://matplotlib.org/</dc:title>\n",
       "     </cc:Agent>\n",
       "    </dc:creator>\n",
       "   </cc:Work>\n",
       "  </rdf:RDF>\n",
       " </metadata>\n",
       " <defs>\n",
       "  <style type=\"text/css\">*{stroke-linecap:butt;stroke-linejoin:round;}</style>\n",
       " </defs>\n",
       " <g id=\"figure_1\">\n",
       "  <g id=\"patch_1\">\n",
       "   <path d=\"M 0 235.34 \n",
       "L 320.1 235.34 \n",
       "L 320.1 0 \n",
       "L 0 0 \n",
       "z\n",
       "\" style=\"fill:none;\"/>\n",
       "  </g>\n",
       "  <g id=\"axes_1\">\n",
       "   <g id=\"patch_2\">\n",
       "    <path d=\"M 10.7 67.6 \n",
       "L 71.1 67.6 \n",
       "L 71.1 7.2 \n",
       "L 10.7 7.2 \n",
       "z\n",
       "\" style=\"fill:#ffffff;\"/>\n",
       "   </g>\n",
       "   <g clip-path=\"url(#pf9e0d9479e)\">\n",
       "    <image height=\"61\" id=\"imagea5660ea924\" transform=\"scale(1 -1)translate(0 -61)\" width=\"61\" x=\"10.7\" xlink:href=\"data:image/png;base64,\n",
       "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\" y=\"-6.6\"/>\n",
       "   </g>\n",
       "   <g id=\"matplotlib.axis_1\"/>\n",
       "   <g id=\"matplotlib.axis_2\"/>\n",
       "   <g id=\"patch_3\">\n",
       "    <path d=\"M 10.7 67.6 \n",
       "L 10.7 7.2 \n",
       "\" style=\"fill:none;stroke:#000000;stroke-linecap:square;stroke-linejoin:miter;stroke-width:0.8;\"/>\n",
       "   </g>\n",
       "   <g id=\"patch_4\">\n",
       "    <path d=\"M 71.1 67.6 \n",
       "L 71.1 7.2 \n",
       "\" style=\"fill:none;stroke:#000000;stroke-linecap:square;stroke-linejoin:miter;stroke-width:0.8;\"/>\n",
       "   </g>\n",
       "   <g id=\"patch_5\">\n",
       "    <path d=\"M 10.7 67.6 \n",
       "L 71.1 67.6 \n",
       "\" style=\"fill:none;stroke:#000000;stroke-linecap:square;stroke-linejoin:miter;stroke-width:0.8;\"/>\n",
       "   </g>\n",
       "   <g id=\"patch_6\">\n",
       "    <path d=\"M 10.7 7.2 \n",
       "L 71.1 7.2 \n",
       "\" style=\"fill:none;stroke:#000000;stroke-linecap:square;stroke-linejoin:miter;stroke-width:0.8;\"/>\n",
       "   </g>\n",
       "  </g>\n",
       "  <g id=\"axes_2\">\n",
       "   <g id=\"patch_7\">\n",
       "    <path d=\"M 131.6 67.6 \n",
       "L 192 67.6 \n",
       "L 192 7.2 \n",
       "L 131.6 7.2 \n",
       "z\n",
       "\" style=\"fill:#ffffff;\"/>\n",
       "   </g>\n",
       "   <g clip-path=\"url(#pd31b5e5f51)\">\n",
       "    <image height=\"61\" id=\"image409d69388b\" transform=\"scale(1 -1)translate(0 -61)\" width=\"61\" x=\"131.6\" xlink:href=\"data:image/png;base64,\n",
       "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\" y=\"-6.6\"/>\n",
       "   </g>\n",
       "   <g id=\"matplotlib.axis_3\"/>\n",
       "   <g id=\"matplotlib.axis_4\"/>\n",
       "   <g id=\"patch_8\">\n",
       "    <path d=\"M 131.6 67.6 \n",
       "L 131.6 7.2 \n",
       "\" style=\"fill:none;stroke:#000000;stroke-linecap:square;stroke-linejoin:miter;stroke-width:0.8;\"/>\n",
       "   </g>\n",
       "   <g id=\"patch_9\">\n",
       "    <path d=\"M 192 67.6 \n",
       "L 192 7.2 \n",
       "\" style=\"fill:none;stroke:#000000;stroke-linecap:square;stroke-linejoin:miter;stroke-width:0.8;\"/>\n",
       "   </g>\n",
       "   <g id=\"patch_10\">\n",
       "    <path d=\"M 131.6 67.6 \n",
       "L 192 67.6 \n",
       "\" style=\"fill:none;stroke:#000000;stroke-linecap:square;stroke-linejoin:miter;stroke-width:0.8;\"/>\n",
       "   </g>\n",
       "   <g id=\"patch_11\">\n",
       "    <path d=\"M 131.6 7.2 \n",
       "L 192 7.2 \n",
       "\" style=\"fill:none;stroke:#000000;stroke-linecap:square;stroke-linejoin:miter;stroke-width:0.8;\"/>\n",
       "   </g>\n",
       "  </g>\n",
       "  <g id=\"axes_3\">\n",
       "   <g id=\"patch_12\">\n",
       "    <path d=\"M 252.5 67.6 \n",
       "L 312.9 67.6 \n",
       "L 312.9 7.2 \n",
       "L 252.5 7.2 \n",
       "z\n",
       "\" style=\"fill:#ffffff;\"/>\n",
       "   </g>\n",
       "   <g clip-path=\"url(#pd43de03064)\">\n",
       "    <image height=\"61\" id=\"imagefc3677fe89\" transform=\"scale(1 -1)translate(0 -61)\" width=\"61\" x=\"252.5\" xlink:href=\"data:image/png;base64,\n",
       "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\" y=\"-6.6\"/>\n",
       "   </g>\n",
       "   <g id=\"matplotlib.axis_5\"/>\n",
       "   <g id=\"matplotlib.axis_6\"/>\n",
       "   <g id=\"patch_13\">\n",
       "    <path d=\"M 252.5 67.6 \n",
       "L 252.5 7.2 \n",
       "\" style=\"fill:none;stroke:#000000;stroke-linecap:square;stroke-linejoin:miter;stroke-width:0.8;\"/>\n",
       "   </g>\n",
       "   <g id=\"patch_14\">\n",
       "    <path d=\"M 312.9 67.6 \n",
       "L 312.9 7.2 \n",
       "\" style=\"fill:none;stroke:#000000;stroke-linecap:square;stroke-linejoin:miter;stroke-width:0.8;\"/>\n",
       "   </g>\n",
       "   <g id=\"patch_15\">\n",
       "    <path d=\"M 252.5 67.6 \n",
       "L 312.9 67.6 \n",
       "\" style=\"fill:none;stroke:#000000;stroke-linecap:square;stroke-linejoin:miter;stroke-width:0.8;\"/>\n",
       "   </g>\n",
       "   <g id=\"patch_16\">\n",
       "    <path d=\"M 252.5 7.2 \n",
       "L 312.9 7.2 \n",
       "\" style=\"fill:none;stroke:#000000;stroke-linecap:square;stroke-linejoin:miter;stroke-width:0.8;\"/>\n",
       "   </g>\n",
       "  </g>\n",
       "  <g id=\"axes_4\">\n",
       "   <g id=\"patch_17\">\n",
       "    <path d=\"M 10.7 146.12 \n",
       "L 71.1 146.12 \n",
       "L 71.1 85.72 \n",
       "L 10.7 85.72 \n",
       "z\n",
       "\" style=\"fill:#ffffff;\"/>\n",
       "   </g>\n",
       "   <g clip-path=\"url(#p333613ae82)\">\n",
       "    <image height=\"61\" id=\"image49b959fe32\" transform=\"scale(1 -1)translate(0 -61)\" width=\"61\" x=\"10.7\" xlink:href=\"data:image/png;base64,\n",
       "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\" y=\"-85.12\"/>\n",
       "   </g>\n",
       "   <g id=\"matplotlib.axis_7\"/>\n",
       "   <g id=\"matplotlib.axis_8\"/>\n",
       "   <g id=\"patch_18\">\n",
       "    <path d=\"M 10.7 146.12 \n",
       "L 10.7 85.72 \n",
       "\" style=\"fill:none;stroke:#000000;stroke-linecap:square;stroke-linejoin:miter;stroke-width:0.8;\"/>\n",
       "   </g>\n",
       "   <g id=\"patch_19\">\n",
       "    <path d=\"M 71.1 146.12 \n",
       "L 71.1 85.72 \n",
       "\" style=\"fill:none;stroke:#000000;stroke-linecap:square;stroke-linejoin:miter;stroke-width:0.8;\"/>\n",
       "   </g>\n",
       "   <g id=\"patch_20\">\n",
       "    <path d=\"M 10.7 146.12 \n",
       "L 71.1 146.12 \n",
       "\" style=\"fill:none;stroke:#000000;stroke-linecap:square;stroke-linejoin:miter;stroke-width:0.8;\"/>\n",
       "   </g>\n",
       "   <g id=\"patch_21\">\n",
       "    <path d=\"M 10.7 85.72 \n",
       "L 71.1 85.72 \n",
       "\" style=\"fill:none;stroke:#000000;stroke-linecap:square;stroke-linejoin:miter;stroke-width:0.8;\"/>\n",
       "   </g>\n",
       "  </g>\n",
       "  <g id=\"axes_5\">\n",
       "   <g id=\"patch_22\">\n",
       "    <path d=\"M 131.6 146.12 \n",
       "L 192 146.12 \n",
       "L 192 85.72 \n",
       "L 131.6 85.72 \n",
       "z\n",
       "\" style=\"fill:#ffffff;\"/>\n",
       "   </g>\n",
       "   <g clip-path=\"url(#pa780e09594)\">\n",
       "    <image height=\"61\" id=\"image62cf536e96\" transform=\"scale(1 -1)translate(0 -61)\" width=\"61\" x=\"131.6\" xlink:href=\"data:image/png;base64,\n",
       "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\" y=\"-85.12\"/>\n",
       "   </g>\n",
       "   <g id=\"matplotlib.axis_9\"/>\n",
       "   <g id=\"matplotlib.axis_10\"/>\n",
       "   <g id=\"patch_23\">\n",
       "    <path d=\"M 131.6 146.12 \n",
       "L 131.6 85.72 \n",
       "\" style=\"fill:none;stroke:#000000;stroke-linecap:square;stroke-linejoin:miter;stroke-width:0.8;\"/>\n",
       "   </g>\n",
       "   <g id=\"patch_24\">\n",
       "    <path d=\"M 192 146.12 \n",
       "L 192 85.72 \n",
       "\" style=\"fill:none;stroke:#000000;stroke-linecap:square;stroke-linejoin:miter;stroke-width:0.8;\"/>\n",
       "   </g>\n",
       "   <g id=\"patch_25\">\n",
       "    <path d=\"M 131.6 146.12 \n",
       "L 192 146.12 \n",
       "\" style=\"fill:none;stroke:#000000;stroke-linecap:square;stroke-linejoin:miter;stroke-width:0.8;\"/>\n",
       "   </g>\n",
       "   <g id=\"patch_26\">\n",
       "    <path d=\"M 131.6 85.72 \n",
       "L 192 85.72 \n",
       "\" style=\"fill:none;stroke:#000000;stroke-linecap:square;stroke-linejoin:miter;stroke-width:0.8;\"/>\n",
       "   </g>\n",
       "  </g>\n",
       "  <g id=\"axes_6\">\n",
       "   <g id=\"patch_27\">\n",
       "    <path d=\"M 252.5 146.12 \n",
       "L 312.9 146.12 \n",
       "L 312.9 85.72 \n",
       "L 252.5 85.72 \n",
       "z\n",
       "\" style=\"fill:#ffffff;\"/>\n",
       "   </g>\n",
       "   <g clip-path=\"url(#pe837f41234)\">\n",
       "    <image height=\"61\" id=\"image12c4403bbe\" transform=\"scale(1 -1)translate(0 -61)\" width=\"61\" x=\"252.5\" xlink:href=\"data:image/png;base64,\n",
       "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\" y=\"-85.12\"/>\n",
       "   </g>\n",
       "   <g id=\"matplotlib.axis_11\"/>\n",
       "   <g id=\"matplotlib.axis_12\"/>\n",
       "   <g id=\"patch_28\">\n",
       "    <path d=\"M 252.5 146.12 \n",
       "L 252.5 85.72 \n",
       "\" style=\"fill:none;stroke:#000000;stroke-linecap:square;stroke-linejoin:miter;stroke-width:0.8;\"/>\n",
       "   </g>\n",
       "   <g id=\"patch_29\">\n",
       "    <path d=\"M 312.9 146.12 \n",
       "L 312.9 85.72 \n",
       "\" style=\"fill:none;stroke:#000000;stroke-linecap:square;stroke-linejoin:miter;stroke-width:0.8;\"/>\n",
       "   </g>\n",
       "   <g id=\"patch_30\">\n",
       "    <path d=\"M 252.5 146.12 \n",
       "L 312.9 146.12 \n",
       "\" style=\"fill:none;stroke:#000000;stroke-linecap:square;stroke-linejoin:miter;stroke-width:0.8;\"/>\n",
       "   </g>\n",
       "   <g id=\"patch_31\">\n",
       "    <path d=\"M 252.5 85.72 \n",
       "L 312.9 85.72 \n",
       "\" style=\"fill:none;stroke:#000000;stroke-linecap:square;stroke-linejoin:miter;stroke-width:0.8;\"/>\n",
       "   </g>\n",
       "  </g>\n",
       "  <g id=\"axes_7\">\n",
       "   <g id=\"patch_32\">\n",
       "    <path d=\"M 10.7 224.64 \n",
       "L 71.1 224.64 \n",
       "L 71.1 164.24 \n",
       "L 10.7 164.24 \n",
       "z\n",
       "\" style=\"fill:#ffffff;\"/>\n",
       "   </g>\n",
       "   <g clip-path=\"url(#p162f1d8a9d)\">\n",
       "    <image height=\"61\" id=\"image5f7645df67\" transform=\"scale(1 -1)translate(0 -61)\" width=\"61\" x=\"10.7\" xlink:href=\"data:image/png;base64,\n",
       "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\" y=\"-163.64\"/>\n",
       "   </g>\n",
       "   <g id=\"matplotlib.axis_13\"/>\n",
       "   <g id=\"matplotlib.axis_14\"/>\n",
       "   <g id=\"patch_33\">\n",
       "    <path d=\"M 10.7 224.64 \n",
       "L 10.7 164.24 \n",
       "\" style=\"fill:none;stroke:#000000;stroke-linecap:square;stroke-linejoin:miter;stroke-width:0.8;\"/>\n",
       "   </g>\n",
       "   <g id=\"patch_34\">\n",
       "    <path d=\"M 71.1 224.64 \n",
       "L 71.1 164.24 \n",
       "\" style=\"fill:none;stroke:#000000;stroke-linecap:square;stroke-linejoin:miter;stroke-width:0.8;\"/>\n",
       "   </g>\n",
       "   <g id=\"patch_35\">\n",
       "    <path d=\"M 10.7 224.64 \n",
       "L 71.1 224.64 \n",
       "\" style=\"fill:none;stroke:#000000;stroke-linecap:square;stroke-linejoin:miter;stroke-width:0.8;\"/>\n",
       "   </g>\n",
       "   <g id=\"patch_36\">\n",
       "    <path d=\"M 10.7 164.24 \n",
       "L 71.1 164.24 \n",
       "\" style=\"fill:none;stroke:#000000;stroke-linecap:square;stroke-linejoin:miter;stroke-width:0.8;\"/>\n",
       "   </g>\n",
       "  </g>\n",
       "  <g id=\"axes_8\">\n",
       "   <g id=\"patch_37\">\n",
       "    <path d=\"M 131.6 224.64 \n",
       "L 192 224.64 \n",
       "L 192 164.24 \n",
       "L 131.6 164.24 \n",
       "z\n",
       "\" style=\"fill:#ffffff;\"/>\n",
       "   </g>\n",
       "   <g clip-path=\"url(#pccdb1a2403)\">\n",
       "    <image height=\"61\" id=\"imagec8ce40beca\" transform=\"scale(1 -1)translate(0 -61)\" width=\"61\" x=\"131.6\" xlink:href=\"data:image/png;base64,\n",
       "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\" y=\"-163.64\"/>\n",
       "   </g>\n",
       "   <g id=\"matplotlib.axis_15\"/>\n",
       "   <g id=\"matplotlib.axis_16\"/>\n",
       "   <g id=\"patch_38\">\n",
       "    <path d=\"M 131.6 224.64 \n",
       "L 131.6 164.24 \n",
       "\" style=\"fill:none;stroke:#000000;stroke-linecap:square;stroke-linejoin:miter;stroke-width:0.8;\"/>\n",
       "   </g>\n",
       "   <g id=\"patch_39\">\n",
       "    <path d=\"M 192 224.64 \n",
       "L 192 164.24 \n",
       "\" style=\"fill:none;stroke:#000000;stroke-linecap:square;stroke-linejoin:miter;stroke-width:0.8;\"/>\n",
       "   </g>\n",
       "   <g id=\"patch_40\">\n",
       "    <path d=\"M 131.6 224.64 \n",
       "L 192 224.64 \n",
       "\" style=\"fill:none;stroke:#000000;stroke-linecap:square;stroke-linejoin:miter;stroke-width:0.8;\"/>\n",
       "   </g>\n",
       "   <g id=\"patch_41\">\n",
       "    <path d=\"M 131.6 164.24 \n",
       "L 192 164.24 \n",
       "\" style=\"fill:none;stroke:#000000;stroke-linecap:square;stroke-linejoin:miter;stroke-width:0.8;\"/>\n",
       "   </g>\n",
       "  </g>\n",
       "  <g id=\"axes_9\">\n",
       "   <g id=\"patch_42\">\n",
       "    <path d=\"M 252.5 224.64 \n",
       "L 312.9 224.64 \n",
       "L 312.9 164.24 \n",
       "L 252.5 164.24 \n",
       "z\n",
       "\" style=\"fill:#ffffff;\"/>\n",
       "   </g>\n",
       "   <g clip-path=\"url(#p0d4c2f5e95)\">\n",
       "    <image height=\"61\" id=\"image38e9a8e6d0\" transform=\"scale(1 -1)translate(0 -61)\" width=\"61\" x=\"252.5\" xlink:href=\"data:image/png;base64,\n",
       "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\" y=\"-163.64\"/>\n",
       "   </g>\n",
       "   <g id=\"matplotlib.axis_17\"/>\n",
       "   <g id=\"matplotlib.axis_18\"/>\n",
       "   <g id=\"patch_43\">\n",
       "    <path d=\"M 252.5 224.64 \n",
       "L 252.5 164.24 \n",
       "\" style=\"fill:none;stroke:#000000;stroke-linecap:square;stroke-linejoin:miter;stroke-width:0.8;\"/>\n",
       "   </g>\n",
       "   <g id=\"patch_44\">\n",
       "    <path d=\"M 312.9 224.64 \n",
       "L 312.9 164.24 \n",
       "\" style=\"fill:none;stroke:#000000;stroke-linecap:square;stroke-linejoin:miter;stroke-width:0.8;\"/>\n",
       "   </g>\n",
       "   <g id=\"patch_45\">\n",
       "    <path d=\"M 252.5 224.64 \n",
       "L 312.9 224.64 \n",
       "\" style=\"fill:none;stroke:#000000;stroke-linecap:square;stroke-linejoin:miter;stroke-width:0.8;\"/>\n",
       "   </g>\n",
       "   <g id=\"patch_46\">\n",
       "    <path d=\"M 252.5 164.24 \n",
       "L 312.9 164.24 \n",
       "\" style=\"fill:none;stroke:#000000;stroke-linecap:square;stroke-linejoin:miter;stroke-width:0.8;\"/>\n",
       "   </g>\n",
       "  </g>\n",
       " </g>\n",
       " <defs>\n",
       "  <clipPath id=\"pf9e0d9479e\">\n",
       "   <rect height=\"60.4\" width=\"60.4\" x=\"10.7\" y=\"7.2\"/>\n",
       "  </clipPath>\n",
       "  <clipPath id=\"pd31b5e5f51\">\n",
       "   <rect height=\"60.4\" width=\"60.4\" x=\"131.6\" y=\"7.2\"/>\n",
       "  </clipPath>\n",
       "  <clipPath id=\"pd43de03064\">\n",
       "   <rect height=\"60.4\" width=\"60.4\" x=\"252.5\" y=\"7.2\"/>\n",
       "  </clipPath>\n",
       "  <clipPath id=\"p333613ae82\">\n",
       "   <rect height=\"60.4\" width=\"60.4\" x=\"10.7\" y=\"85.72\"/>\n",
       "  </clipPath>\n",
       "  <clipPath id=\"pa780e09594\">\n",
       "   <rect height=\"60.4\" width=\"60.4\" x=\"131.6\" y=\"85.72\"/>\n",
       "  </clipPath>\n",
       "  <clipPath id=\"pe837f41234\">\n",
       "   <rect height=\"60.4\" width=\"60.4\" x=\"252.5\" y=\"85.72\"/>\n",
       "  </clipPath>\n",
       "  <clipPath id=\"p162f1d8a9d\">\n",
       "   <rect height=\"60.4\" width=\"60.4\" x=\"10.7\" y=\"164.24\"/>\n",
       "  </clipPath>\n",
       "  <clipPath id=\"pccdb1a2403\">\n",
       "   <rect height=\"60.4\" width=\"60.4\" x=\"131.6\" y=\"164.24\"/>\n",
       "  </clipPath>\n",
       "  <clipPath id=\"p0d4c2f5e95\">\n",
       "   <rect height=\"60.4\" width=\"60.4\" x=\"252.5\" y=\"164.24\"/>\n",
       "  </clipPath>\n",
       " </defs>\n",
       "</svg>\n"
      ],
      "text/plain": [
       "<Figure size 432x288 with 9 Axes>"
      ]
     },
     "metadata": {},
     "output_type": "display_data"
    },
    {
     "name": "stdout",
     "output_type": "stream",
     "text": [
      "Use Image(filename=sample)\n",
      "    PLEASE comment the Image function in this block on submission \n"
     ]
    },
    {
     "data": {
      "text/plain": [
       "' PLEASE comment any print/plot function in this block on submission '"
      ]
     },
     "execution_count": 28,
     "metadata": {},
     "output_type": "execute_result"
    }
   ],
   "source": [
    "file = open(train_datasets[0], \"rb\")\n",
    "images = pickle.load(file)\n",
    "file.close()\n",
    "\n",
    "fig, axes = plt.subplots(3, 3)\n",
    "fig.subplots_adjust(hspace=0.3, wspace=0.3) # distance between each plot\n",
    "for i, ax in enumerate(axes.flat):\n",
    "        # Plot image.\n",
    "    ax.imshow(images[i+11].reshape([28, 28]), cmap='binary')               # images[13]은 애초에 A가 아니다.\n",
    "        \n",
    "        # Remove ticks from the plot.\n",
    "    ax.set_xticks([])\n",
    "    ax.set_yticks([])\n",
    "        \n",
    "    # Ensure the plot is shown correctly with multiple plots\n",
    "    # in a single Notebook cell.\n",
    "plt.show()\n",
    "print(__doc__)\n",
    "\"\"\" PLEASE comment any print/plot function in this block on submission \"\"\""
   ]
  },
  {
   "cell_type": "markdown",
   "metadata": {
    "colab_type": "text",
    "id": "cYznx5jUwzoO"
   },
   "source": [
    "---\n",
    "Exercise 3\n",
    "---------\n",
    "Another check: we expect the data to be balanced across classes. Verify that if the number of samples across classes are balanced.\n",
    "\n",
    "---"
   ]
  },
  {
   "cell_type": "code",
   "execution_count": 29,
   "metadata": {
    "tags": []
   },
   "outputs": [
    {
     "name": "stdout",
     "output_type": "stream",
     "text": [
      "Use Image(filename=sample)\n",
      "    PLEASE comment the Image function in this block on submission \n"
     ]
    },
    {
     "data": {
      "text/plain": [
       "' PLEASE comment any print/plot function in this block on submission '"
      ]
     },
     "execution_count": 29,
     "metadata": {},
     "output_type": "execute_result"
    }
   ],
   "source": [
    "print(__doc__)\n",
    "\"\"\" PLEASE comment any print/plot function in this block on submission \"\"\""
   ]
  },
  {
   "cell_type": "code",
   "execution_count": 32,
   "metadata": {
    "jupyter": {
     "source_hidden": true
    },
    "tags": []
   },
   "outputs": [
    {
     "name": "stdout",
     "output_type": "stream",
     "text": [
      "Use Image(filename=sample)\n",
      "    PLEASE comment the Image function in this block on submission \n",
      "['/home/jackyoung96/2020_2/Deeplearning_assignment/HW1_data/notMNIST_large/A.pickle', '/home/jackyoung96/2020_2/Deeplearning_assignment/HW1_data/notMNIST_large/B.pickle', '/home/jackyoung96/2020_2/Deeplearning_assignment/HW1_data/notMNIST_large/C.pickle', '/home/jackyoung96/2020_2/Deeplearning_assignment/HW1_data/notMNIST_large/D.pickle', '/home/jackyoung96/2020_2/Deeplearning_assignment/HW1_data/notMNIST_large/E.pickle', '/home/jackyoung96/2020_2/Deeplearning_assignment/HW1_data/notMNIST_large/F.pickle', '/home/jackyoung96/2020_2/Deeplearning_assignment/HW1_data/notMNIST_large/G.pickle', '/home/jackyoung96/2020_2/Deeplearning_assignment/HW1_data/notMNIST_large/H.pickle', '/home/jackyoung96/2020_2/Deeplearning_assignment/HW1_data/notMNIST_large/I.pickle', '/home/jackyoung96/2020_2/Deeplearning_assignment/HW1_data/notMNIST_large/J.pickle']\n",
      "file :  <_io.BufferedReader name='/home/jackyoung96/2020_2/Deeplearning_assignment/HW1_data/notMNIST_large/A.pickle'> number of samples :  52909\n",
      "file :  <_io.BufferedReader name='/home/jackyoung96/2020_2/Deeplearning_assignment/HW1_data/notMNIST_large/B.pickle'> number of samples :  52911\n",
      "file :  <_io.BufferedReader name='/home/jackyoung96/2020_2/Deeplearning_assignment/HW1_data/notMNIST_large/C.pickle'> number of samples :  52912\n",
      "file :  <_io.BufferedReader name='/home/jackyoung96/2020_2/Deeplearning_assignment/HW1_data/notMNIST_large/D.pickle'> number of samples :  52911\n",
      "file :  <_io.BufferedReader name='/home/jackyoung96/2020_2/Deeplearning_assignment/HW1_data/notMNIST_large/E.pickle'> number of samples :  52912\n",
      "file :  <_io.BufferedReader name='/home/jackyoung96/2020_2/Deeplearning_assignment/HW1_data/notMNIST_large/F.pickle'> number of samples :  52912\n",
      "file :  <_io.BufferedReader name='/home/jackyoung96/2020_2/Deeplearning_assignment/HW1_data/notMNIST_large/G.pickle'> number of samples :  52912\n",
      "file :  <_io.BufferedReader name='/home/jackyoung96/2020_2/Deeplearning_assignment/HW1_data/notMNIST_large/H.pickle'> number of samples :  52912\n",
      "file :  <_io.BufferedReader name='/home/jackyoung96/2020_2/Deeplearning_assignment/HW1_data/notMNIST_large/I.pickle'> number of samples :  52912\n",
      "file :  <_io.BufferedReader name='/home/jackyoung96/2020_2/Deeplearning_assignment/HW1_data/notMNIST_large/J.pickle'> number of samples :  52911\n"
     ]
    },
    {
     "data": {
      "text/plain": [
       "' PLEASE comment any print/plot function in this block on submission '"
      ]
     },
     "execution_count": 32,
     "metadata": {},
     "output_type": "execute_result"
    }
   ],
   "source": [
    "print(__doc__)\n",
    "for data in train_datasets: # List of pickle directories and names.\n",
    "    file = open(data, \"rb\")\n",
    "    images = pickle.load(file)\n",
    "    print('file : ', file, 'number of samples : ', images.shape[0])\n",
    "    file.close()\n",
    "\n",
    "\"\"\" PLEASE comment any print/plot function in this block on submission \"\"\""
   ]
  },
  {
   "cell_type": "markdown",
   "metadata": {
    "colab_type": "text",
    "id": "LA7M7K22ynCt"
   },
   "source": [
    "## Generate train, test, validation sets\n",
    "\n",
    "Merge and prune the training data as needed. Depending on your computer setup, you might not be able to fit it all in memory, and you can tune `train_size` as needed. The labels will be stored into a separate array of integers 0 through 9.\n",
    "\n",
    "Also create a validation dataset for hyperparameter tuning."
   ]
  },
  {
   "cell_type": "code",
   "execution_count": 33,
   "metadata": {
    "cellView": "both",
    "colab": {
     "autoexec": {
      "startup": false,
      "wait_interval": 0
     },
     "output_extras": [
      {
       "item_id": 1
      }
     ]
    },
    "colab_type": "code",
    "executionInfo": {
     "elapsed": 411281,
     "status": "ok",
     "timestamp": 1444485897869,
     "user": {
      "color": "#1FA15D",
      "displayName": "Vincent Vanhoucke",
      "isAnonymous": false,
      "isMe": true,
      "permissionId": "05076109866853157986",
      "photoUrl": "//lh6.googleusercontent.com/-cCJa7dTDcgQ/AAAAAAAAAAI/AAAAAAAACgw/r2EZ_8oYer4/s50-c-k-no/photo.jpg",
      "sessionId": "2a0a5e044bb03b66",
      "userId": "102167687554210253930"
     },
     "user_tz": 420
    },
    "id": "s3mWgZLpyuzq",
    "outputId": "8af66da6-902d-4719-bedc-7c9fb7ae7948",
    "tags": []
   },
   "outputs": [
    {
     "name": "stdout",
     "output_type": "stream",
     "text": [
      "Training: (200000, 28, 28) (200000,)\n",
      "Validation: (10000, 28, 28) (10000,)\n",
      "Testing: (10000, 28, 28) (10000,)\n"
     ]
    }
   ],
   "source": [
    "def make_arrays(nb_rows, img_size):\n",
    "    if nb_rows:\n",
    "        dataset = np.ndarray((nb_rows, img_size, img_size), dtype=np.float32)\n",
    "        labels = np.ndarray(nb_rows, dtype=np.int32)\n",
    "    else:\n",
    "        dataset, labels = None, None\n",
    "    return dataset, labels\n",
    "\n",
    "def merge_datasets(pickle_files, train_size, valid_size=0):\n",
    "    num_classes = len(pickle_files)\n",
    "    valid_dataset, valid_labels = make_arrays(valid_size, image_size)\n",
    "    train_dataset, train_labels = make_arrays(train_size, image_size)\n",
    "    vsize_per_class = valid_size // num_classes # integral division\n",
    "    tsize_per_class = train_size // num_classes\n",
    "\n",
    "    start_v, start_t = 0, 0\n",
    "    end_v, end_t = vsize_per_class, tsize_per_class\n",
    "    end_l = vsize_per_class+tsize_per_class\n",
    "    for label, pickle_file in enumerate(pickle_files):       \n",
    "        try:\n",
    "            with open(pickle_file, 'rb') as f:\n",
    "                letter_set = pickle.load(f)\n",
    "                # let's shuffle the letters to have random validation and training set\n",
    "                np.random.shuffle(letter_set)\n",
    "                if valid_dataset is not None:\n",
    "                    valid_letter = letter_set[:vsize_per_class, :, :]\n",
    "                    valid_dataset[start_v:end_v, :, :] = valid_letter\n",
    "                    valid_labels[start_v:end_v] = label\n",
    "                    start_v += vsize_per_class\n",
    "                    end_v += vsize_per_class\n",
    "\n",
    "                train_letter = letter_set[vsize_per_class:end_l, :, :]\n",
    "                train_dataset[start_t:end_t, :, :] = train_letter\n",
    "                train_labels[start_t:end_t] = label\n",
    "                start_t += tsize_per_class\n",
    "                end_t += tsize_per_class\n",
    "        except Exception as e:\n",
    "            print('Unable to process data from', pickle_file, ':', e)\n",
    "            raise\n",
    "\n",
    "    return valid_dataset, valid_labels, train_dataset, train_labels\n",
    "\n",
    "            \n",
    "train_size = 200000\n",
    "valid_size = 10000\n",
    "test_size = 10000\n",
    "\n",
    "valid_dataset, valid_labels, train_dataset, train_labels = merge_datasets(\n",
    "  train_datasets, train_size, valid_size)\n",
    "_, _, test_dataset, test_labels = merge_datasets(test_datasets, test_size)\n",
    "\n",
    "print('Training:', train_dataset.shape, train_labels.shape)\n",
    "print('Validation:', valid_dataset.shape, valid_labels.shape)\n",
    "print('Testing:', test_dataset.shape, test_labels.shape)"
   ]
  },
  {
   "cell_type": "markdown",
   "metadata": {
    "colab_type": "text",
    "id": "GPTCnjIcyuKN"
   },
   "source": [
    "Next, we'll randomize the data. It's important to have the labels well shuffled for the training and test distributions to match."
   ]
  },
  {
   "cell_type": "code",
   "execution_count": 35,
   "metadata": {
    "cellView": "both",
    "colab": {
     "autoexec": {
      "startup": false,
      "wait_interval": 0
     }
    },
    "colab_type": "code",
    "id": "6WZ2l2tN2zOL",
    "tags": []
   },
   "outputs": [],
   "source": [
    "def randomize(dataset, labels):\n",
    "    permutation = np.random.permutation(labels.shape[0])\n",
    "    shuffled_dataset = dataset[permutation,:,:]\n",
    "    shuffled_labels = labels[permutation]\n",
    "    return shuffled_dataset, shuffled_labels\n",
    "train_dataset, train_labels = randomize(train_dataset, train_labels)\n",
    "test_dataset, test_labels = randomize(test_dataset, test_labels)\n",
    "valid_dataset, valid_labels = randomize(valid_dataset, valid_labels)\n"
   ]
  },
  {
   "cell_type": "markdown",
   "metadata": {
    "colab_type": "text",
    "id": "puDUTe6t6USl"
   },
   "source": [
    "---\n",
    "Exercise 4\n",
    "---------\n",
    "Convince yourself that the data is still good after shuffling! Display one of the images and see if it's not distorted.\n",
    "\n",
    "---"
   ]
  },
  {
   "cell_type": "code",
   "execution_count": null,
   "metadata": {},
   "outputs": [],
   "source": [
    "print(__doc__)\n",
    "\"\"\" PLEASE comment any print/plot function in this block on submission \"\"\""
   ]
  },
  {
   "cell_type": "code",
   "execution_count": 37,
   "metadata": {
    "jupyter": {
     "source_hidden": true
    },
    "tags": []
   },
   "outputs": [
    {
     "name": "stdout",
     "output_type": "stream",
     "text": [
      "Use Image(filename=sample)\n",
      "    PLEASE comment the Image function in this block on submission \n"
     ]
    },
    {
     "data": {
      "image/png": "[encoded data removed]",
      "image/svg+xml": [
       "<?xml version=\"1.0\" encoding=\"utf-8\" standalone=\"no\"?>\n",
       "<!DOCTYPE svg PUBLIC \"-//W3C//DTD SVG 1.1//EN\"\n",
       "  \"http://www.w3.org/Graphics/SVG/1.1/DTD/svg11.dtd\">\n",
       "<!-- Created with matplotlib (https://matplotlib.org/) -->\n",
       "<svg height=\"235.34pt\" version=\"1.1\" viewBox=\"0 0 320.1 235.34\" width=\"320.1pt\" xmlns=\"http://www.w3.org/2000/svg\" xmlns:xlink=\"http://www.w3.org/1999/xlink\">\n",
       " <metadata>\n",
       "  <rdf:RDF xmlns:cc=\"http://creativecommons.org/ns#\" xmlns:dc=\"http://purl.org/dc/elements/1.1/\" xmlns:rdf=\"http://www.w3.org/1999/02/22-rdf-syntax-ns#\">\n",
       "   <cc:Work>\n",
       "    <dc:type rdf:resource=\"http://purl.org/dc/dcmitype/StillImage\"/>\n",
       "    <dc:date>2020-09-25T10:47:38.619104</dc:date>\n",
       "    <dc:format>image/svg+xml</dc:format>\n",
       "    <dc:creator>\n",
       "     <cc:Agent>\n",
       "      <dc:title>Matplotlib v3.3.1, https://matplotlib.org/</dc:title>\n",
       "     </cc:Agent>\n",
       "    </dc:creator>\n",
       "   </cc:Work>\n",
       "  </rdf:RDF>\n",
       " </metadata>\n",
       " <defs>\n",
       "  <style type=\"text/css\">*{stroke-linecap:butt;stroke-linejoin:round;}</style>\n",
       " </defs>\n",
       " <g id=\"figure_1\">\n",
       "  <g id=\"patch_1\">\n",
       "   <path d=\"M 0 235.34 \n",
       "L 320.1 235.34 \n",
       "L 320.1 0 \n",
       "L 0 0 \n",
       "z\n",
       "\" style=\"fill:none;\"/>\n",
       "  </g>\n",
       "  <g id=\"axes_1\">\n",
       "   <g id=\"patch_2\">\n",
       "    <path d=\"M 10.7 67.6 \n",
       "L 71.1 67.6 \n",
       "L 71.1 7.2 \n",
       "L 10.7 7.2 \n",
       "z\n",
       "\" style=\"fill:#ffffff;\"/>\n",
       "   </g>\n",
       "   <g clip-path=\"url(#pfa691d60de)\">\n",
       "    <image height=\"61\" id=\"imagedfdf9e3d55\" transform=\"scale(1 -1)translate(0 -61)\" width=\"61\" x=\"10.7\" xlink:href=\"data:image/png;base64,\n",
       "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\" y=\"-6.6\"/>\n",
       "   </g>\n",
       "   <g id=\"matplotlib.axis_1\"/>\n",
       "   <g id=\"matplotlib.axis_2\"/>\n",
       "   <g id=\"patch_3\">\n",
       "    <path d=\"M 10.7 67.6 \n",
       "L 10.7 7.2 \n",
       "\" style=\"fill:none;stroke:#000000;stroke-linecap:square;stroke-linejoin:miter;stroke-width:0.8;\"/>\n",
       "   </g>\n",
       "   <g id=\"patch_4\">\n",
       "    <path d=\"M 71.1 67.6 \n",
       "L 71.1 7.2 \n",
       "\" style=\"fill:none;stroke:#000000;stroke-linecap:square;stroke-linejoin:miter;stroke-width:0.8;\"/>\n",
       "   </g>\n",
       "   <g id=\"patch_5\">\n",
       "    <path d=\"M 10.7 67.6 \n",
       "L 71.1 67.6 \n",
       "\" style=\"fill:none;stroke:#000000;stroke-linecap:square;stroke-linejoin:miter;stroke-width:0.8;\"/>\n",
       "   </g>\n",
       "   <g id=\"patch_6\">\n",
       "    <path d=\"M 10.7 7.2 \n",
       "L 71.1 7.2 \n",
       "\" style=\"fill:none;stroke:#000000;stroke-linecap:square;stroke-linejoin:miter;stroke-width:0.8;\"/>\n",
       "   </g>\n",
       "  </g>\n",
       "  <g id=\"axes_2\">\n",
       "   <g id=\"patch_7\">\n",
       "    <path d=\"M 131.6 67.6 \n",
       "L 192 67.6 \n",
       "L 192 7.2 \n",
       "L 131.6 7.2 \n",
       "z\n",
       "\" style=\"fill:#ffffff;\"/>\n",
       "   </g>\n",
       "   <g clip-path=\"url(#p8ca644ca85)\">\n",
       "    <image height=\"61\" id=\"imageb6641c3847\" transform=\"scale(1 -1)translate(0 -61)\" width=\"61\" x=\"131.6\" xlink:href=\"data:image/png;base64,\n",
       "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\" y=\"-6.6\"/>\n",
       "   </g>\n",
       "   <g id=\"matplotlib.axis_3\"/>\n",
       "   <g id=\"matplotlib.axis_4\"/>\n",
       "   <g id=\"patch_8\">\n",
       "    <path d=\"M 131.6 67.6 \n",
       "L 131.6 7.2 \n",
       "\" style=\"fill:none;stroke:#000000;stroke-linecap:square;stroke-linejoin:miter;stroke-width:0.8;\"/>\n",
       "   </g>\n",
       "   <g id=\"patch_9\">\n",
       "    <path d=\"M 192 67.6 \n",
       "L 192 7.2 \n",
       "\" style=\"fill:none;stroke:#000000;stroke-linecap:square;stroke-linejoin:miter;stroke-width:0.8;\"/>\n",
       "   </g>\n",
       "   <g id=\"patch_10\">\n",
       "    <path d=\"M 131.6 67.6 \n",
       "L 192 67.6 \n",
       "\" style=\"fill:none;stroke:#000000;stroke-linecap:square;stroke-linejoin:miter;stroke-width:0.8;\"/>\n",
       "   </g>\n",
       "   <g id=\"patch_11\">\n",
       "    <path d=\"M 131.6 7.2 \n",
       "L 192 7.2 \n",
       "\" style=\"fill:none;stroke:#000000;stroke-linecap:square;stroke-linejoin:miter;stroke-width:0.8;\"/>\n",
       "   </g>\n",
       "  </g>\n",
       "  <g id=\"axes_3\">\n",
       "   <g id=\"patch_12\">\n",
       "    <path d=\"M 252.5 67.6 \n",
       "L 312.9 67.6 \n",
       "L 312.9 7.2 \n",
       "L 252.5 7.2 \n",
       "z\n",
       "\" style=\"fill:#ffffff;\"/>\n",
       "   </g>\n",
       "   <g clip-path=\"url(#pb1d98dce8d)\">\n",
       "    <image height=\"61\" id=\"image6960c6cd3f\" transform=\"scale(1 -1)translate(0 -61)\" width=\"61\" x=\"252.5\" xlink:href=\"data:image/png;base64,\n",
       "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\" y=\"-6.6\"/>\n",
       "   </g>\n",
       "   <g id=\"matplotlib.axis_5\"/>\n",
       "   <g id=\"matplotlib.axis_6\"/>\n",
       "   <g id=\"patch_13\">\n",
       "    <path d=\"M 252.5 67.6 \n",
       "L 252.5 7.2 \n",
       "\" style=\"fill:none;stroke:#000000;stroke-linecap:square;stroke-linejoin:miter;stroke-width:0.8;\"/>\n",
       "   </g>\n",
       "   <g id=\"patch_14\">\n",
       "    <path d=\"M 312.9 67.6 \n",
       "L 312.9 7.2 \n",
       "\" style=\"fill:none;stroke:#000000;stroke-linecap:square;stroke-linejoin:miter;stroke-width:0.8;\"/>\n",
       "   </g>\n",
       "   <g id=\"patch_15\">\n",
       "    <path d=\"M 252.5 67.6 \n",
       "L 312.9 67.6 \n",
       "\" style=\"fill:none;stroke:#000000;stroke-linecap:square;stroke-linejoin:miter;stroke-width:0.8;\"/>\n",
       "   </g>\n",
       "   <g id=\"patch_16\">\n",
       "    <path d=\"M 252.5 7.2 \n",
       "L 312.9 7.2 \n",
       "\" style=\"fill:none;stroke:#000000;stroke-linecap:square;stroke-linejoin:miter;stroke-width:0.8;\"/>\n",
       "   </g>\n",
       "  </g>\n",
       "  <g id=\"axes_4\">\n",
       "   <g id=\"patch_17\">\n",
       "    <path d=\"M 10.7 146.12 \n",
       "L 71.1 146.12 \n",
       "L 71.1 85.72 \n",
       "L 10.7 85.72 \n",
       "z\n",
       "\" style=\"fill:#ffffff;\"/>\n",
       "   </g>\n",
       "   <g clip-path=\"url(#p7aac7a4bc1)\">\n",
       "    <image height=\"61\" id=\"image10c00bd93c\" transform=\"scale(1 -1)translate(0 -61)\" width=\"61\" x=\"10.7\" xlink:href=\"data:image/png;base64,\n",
       "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\" y=\"-85.12\"/>\n",
       "   </g>\n",
       "   <g id=\"matplotlib.axis_7\"/>\n",
       "   <g id=\"matplotlib.axis_8\"/>\n",
       "   <g id=\"patch_18\">\n",
       "    <path d=\"M 10.7 146.12 \n",
       "L 10.7 85.72 \n",
       "\" style=\"fill:none;stroke:#000000;stroke-linecap:square;stroke-linejoin:miter;stroke-width:0.8;\"/>\n",
       "   </g>\n",
       "   <g id=\"patch_19\">\n",
       "    <path d=\"M 71.1 146.12 \n",
       "L 71.1 85.72 \n",
       "\" style=\"fill:none;stroke:#000000;stroke-linecap:square;stroke-linejoin:miter;stroke-width:0.8;\"/>\n",
       "   </g>\n",
       "   <g id=\"patch_20\">\n",
       "    <path d=\"M 10.7 146.12 \n",
       "L 71.1 146.12 \n",
       "\" style=\"fill:none;stroke:#000000;stroke-linecap:square;stroke-linejoin:miter;stroke-width:0.8;\"/>\n",
       "   </g>\n",
       "   <g id=\"patch_21\">\n",
       "    <path d=\"M 10.7 85.72 \n",
       "L 71.1 85.72 \n",
       "\" style=\"fill:none;stroke:#000000;stroke-linecap:square;stroke-linejoin:miter;stroke-width:0.8;\"/>\n",
       "   </g>\n",
       "  </g>\n",
       "  <g id=\"axes_5\">\n",
       "   <g id=\"patch_22\">\n",
       "    <path d=\"M 131.6 146.12 \n",
       "L 192 146.12 \n",
       "L 192 85.72 \n",
       "L 131.6 85.72 \n",
       "z\n",
       "\" style=\"fill:#ffffff;\"/>\n",
       "   </g>\n",
       "   <g clip-path=\"url(#p0f3110b2c9)\">\n",
       "    <image height=\"61\" id=\"imageb26c7d7d33\" transform=\"scale(1 -1)translate(0 -61)\" width=\"61\" x=\"131.6\" xlink:href=\"data:image/png;base64,\n",
       "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\" y=\"-85.12\"/>\n",
       "   </g>\n",
       "   <g id=\"matplotlib.axis_9\"/>\n",
       "   <g id=\"matplotlib.axis_10\"/>\n",
       "   <g id=\"patch_23\">\n",
       "    <path d=\"M 131.6 146.12 \n",
       "L 131.6 85.72 \n",
       "\" style=\"fill:none;stroke:#000000;stroke-linecap:square;stroke-linejoin:miter;stroke-width:0.8;\"/>\n",
       "   </g>\n",
       "   <g id=\"patch_24\">\n",
       "    <path d=\"M 192 146.12 \n",
       "L 192 85.72 \n",
       "\" style=\"fill:none;stroke:#000000;stroke-linecap:square;stroke-linejoin:miter;stroke-width:0.8;\"/>\n",
       "   </g>\n",
       "   <g id=\"patch_25\">\n",
       "    <path d=\"M 131.6 146.12 \n",
       "L 192 146.12 \n",
       "\" style=\"fill:none;stroke:#000000;stroke-linecap:square;stroke-linejoin:miter;stroke-width:0.8;\"/>\n",
       "   </g>\n",
       "   <g id=\"patch_26\">\n",
       "    <path d=\"M 131.6 85.72 \n",
       "L 192 85.72 \n",
       "\" style=\"fill:none;stroke:#000000;stroke-linecap:square;stroke-linejoin:miter;stroke-width:0.8;\"/>\n",
       "   </g>\n",
       "  </g>\n",
       "  <g id=\"axes_6\">\n",
       "   <g id=\"patch_27\">\n",
       "    <path d=\"M 252.5 146.12 \n",
       "L 312.9 146.12 \n",
       "L 312.9 85.72 \n",
       "L 252.5 85.72 \n",
       "z\n",
       "\" style=\"fill:#ffffff;\"/>\n",
       "   </g>\n",
       "   <g clip-path=\"url(#p1b470dea19)\">\n",
       "    <image height=\"61\" id=\"image9a7db74b4b\" transform=\"scale(1 -1)translate(0 -61)\" width=\"61\" x=\"252.5\" xlink:href=\"data:image/png;base64,\n",
       "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\" y=\"-85.12\"/>\n",
       "   </g>\n",
       "   <g id=\"matplotlib.axis_11\"/>\n",
       "   <g id=\"matplotlib.axis_12\"/>\n",
       "   <g id=\"patch_28\">\n",
       "    <path d=\"M 252.5 146.12 \n",
       "L 252.5 85.72 \n",
       "\" style=\"fill:none;stroke:#000000;stroke-linecap:square;stroke-linejoin:miter;stroke-width:0.8;\"/>\n",
       "   </g>\n",
       "   <g id=\"patch_29\">\n",
       "    <path d=\"M 312.9 146.12 \n",
       "L 312.9 85.72 \n",
       "\" style=\"fill:none;stroke:#000000;stroke-linecap:square;stroke-linejoin:miter;stroke-width:0.8;\"/>\n",
       "   </g>\n",
       "   <g id=\"patch_30\">\n",
       "    <path d=\"M 252.5 146.12 \n",
       "L 312.9 146.12 \n",
       "\" style=\"fill:none;stroke:#000000;stroke-linecap:square;stroke-linejoin:miter;stroke-width:0.8;\"/>\n",
       "   </g>\n",
       "   <g id=\"patch_31\">\n",
       "    <path d=\"M 252.5 85.72 \n",
       "L 312.9 85.72 \n",
       "\" style=\"fill:none;stroke:#000000;stroke-linecap:square;stroke-linejoin:miter;stroke-width:0.8;\"/>\n",
       "   </g>\n",
       "  </g>\n",
       "  <g id=\"axes_7\">\n",
       "   <g id=\"patch_32\">\n",
       "    <path d=\"M 10.7 224.64 \n",
       "L 71.1 224.64 \n",
       "L 71.1 164.24 \n",
       "L 10.7 164.24 \n",
       "z\n",
       "\" style=\"fill:#ffffff;\"/>\n",
       "   </g>\n",
       "   <g clip-path=\"url(#p0c1e7c5bc9)\">\n",
       "    <image height=\"61\" id=\"image52287120ef\" transform=\"scale(1 -1)translate(0 -61)\" width=\"61\" x=\"10.7\" xlink:href=\"data:image/png;base64,\n",
       "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\" y=\"-163.64\"/>\n",
       "   </g>\n",
       "   <g id=\"matplotlib.axis_13\"/>\n",
       "   <g id=\"matplotlib.axis_14\"/>\n",
       "   <g id=\"patch_33\">\n",
       "    <path d=\"M 10.7 224.64 \n",
       "L 10.7 164.24 \n",
       "\" style=\"fill:none;stroke:#000000;stroke-linecap:square;stroke-linejoin:miter;stroke-width:0.8;\"/>\n",
       "   </g>\n",
       "   <g id=\"patch_34\">\n",
       "    <path d=\"M 71.1 224.64 \n",
       "L 71.1 164.24 \n",
       "\" style=\"fill:none;stroke:#000000;stroke-linecap:square;stroke-linejoin:miter;stroke-width:0.8;\"/>\n",
       "   </g>\n",
       "   <g id=\"patch_35\">\n",
       "    <path d=\"M 10.7 224.64 \n",
       "L 71.1 224.64 \n",
       "\" style=\"fill:none;stroke:#000000;stroke-linecap:square;stroke-linejoin:miter;stroke-width:0.8;\"/>\n",
       "   </g>\n",
       "   <g id=\"patch_36\">\n",
       "    <path d=\"M 10.7 164.24 \n",
       "L 71.1 164.24 \n",
       "\" style=\"fill:none;stroke:#000000;stroke-linecap:square;stroke-linejoin:miter;stroke-width:0.8;\"/>\n",
       "   </g>\n",
       "  </g>\n",
       "  <g id=\"axes_8\">\n",
       "   <g id=\"patch_37\">\n",
       "    <path d=\"M 131.6 224.64 \n",
       "L 192 224.64 \n",
       "L 192 164.24 \n",
       "L 131.6 164.24 \n",
       "z\n",
       "\" style=\"fill:#ffffff;\"/>\n",
       "   </g>\n",
       "   <g clip-path=\"url(#pced93d79c6)\">\n",
       "    <image height=\"61\" id=\"image5bfc584ef5\" transform=\"scale(1 -1)translate(0 -61)\" width=\"61\" x=\"131.6\" xlink:href=\"data:image/png;base64,\n",
       "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\" y=\"-163.64\"/>\n",
       "   </g>\n",
       "   <g id=\"matplotlib.axis_15\"/>\n",
       "   <g id=\"matplotlib.axis_16\"/>\n",
       "   <g id=\"patch_38\">\n",
       "    <path d=\"M 131.6 224.64 \n",
       "L 131.6 164.24 \n",
       "\" style=\"fill:none;stroke:#000000;stroke-linecap:square;stroke-linejoin:miter;stroke-width:0.8;\"/>\n",
       "   </g>\n",
       "   <g id=\"patch_39\">\n",
       "    <path d=\"M 192 224.64 \n",
       "L 192 164.24 \n",
       "\" style=\"fill:none;stroke:#000000;stroke-linecap:square;stroke-linejoin:miter;stroke-width:0.8;\"/>\n",
       "   </g>\n",
       "   <g id=\"patch_40\">\n",
       "    <path d=\"M 131.6 224.64 \n",
       "L 192 224.64 \n",
       "\" style=\"fill:none;stroke:#000000;stroke-linecap:square;stroke-linejoin:miter;stroke-width:0.8;\"/>\n",
       "   </g>\n",
       "   <g id=\"patch_41\">\n",
       "    <path d=\"M 131.6 164.24 \n",
       "L 192 164.24 \n",
       "\" style=\"fill:none;stroke:#000000;stroke-linecap:square;stroke-linejoin:miter;stroke-width:0.8;\"/>\n",
       "   </g>\n",
       "  </g>\n",
       "  <g id=\"axes_9\">\n",
       "   <g id=\"patch_42\">\n",
       "    <path d=\"M 252.5 224.64 \n",
       "L 312.9 224.64 \n",
       "L 312.9 164.24 \n",
       "L 252.5 164.24 \n",
       "z\n",
       "\" style=\"fill:#ffffff;\"/>\n",
       "   </g>\n",
       "   <g clip-path=\"url(#pbfa2d7e07d)\">\n",
       "    <image height=\"61\" id=\"image353db57584\" transform=\"scale(1 -1)translate(0 -61)\" width=\"61\" x=\"252.5\" xlink:href=\"data:image/png;base64,\n",
       "iVBORw0KGgoAAAANSUhEUgAAAD0AAAA9CAYAAAAeYmHpAAARH0lEQVR4nNWb2W8b1/XHP+QMd1Lcd4GiJMuiazmp6hRo9dIWRQu0fetD0bcirwGC/kt5bgMUKJDCBdqkbp20aZ3WsRVXtrWLFFeRFPcZcmZ+D8q9JmUldoxfGuUABKmFM/d7z3LP+Z4zNsuyLC4Qy7KwLAubzYbNZpO/13Wdw8NDOp0O//nPfzg+PmZ/f59yuUyr1aJWqzEcDmm1WhiGwXg8nrmu0+nE4XAQCASYm5sjFAqRSqUIhUKsrKwQCoW4ceMGoVCIXC7H3Nwcdrt9Zg1ibQB2u/2i5X+uqM/7B9M0ATAMA03T0DSN09NTTk9P6fV6DAYDNE1jPB4zmUwwTVMuSGyY2LzpRVqWxWQyQdd1dF1H0zT6/T6qqtJut7Esi7m5OUzTlBulKAqqqvIZenphsZ3X9HkN93o96vU61WqVO3fucHJywsOHDzk9PaXZbDIcDhkOh2iaxmQyQdM0uSixyGlrEdcXL0VRcDqdKIqCz+dDVVWCwSAul4t8Pk84HOYb3/gGuVyOXC7H0tKSvO4MkClLeJ58pqbFokajEc1mk1KpxL179yiXy2xubtLpdNB1HdM0JSihRVVVcblc2O123G43iqJIE9V1HcMw0HWd0WiEruv0ej0AqtXq04WpKpVKhVAohGVZmKaJx+Mhk8nITRJW9EVBz2h6WukHBwfs7e3x+PFjbt++TavVYmdnh+FwSKPRwDAMgsEgHo+HXC5HIpEgFAoRjUZxu90Eg0FUVcXj8WC326XGBejRaCRfnU6HwWBArVaj1+vJ+wjXSiaThMNhstks+XyefD7Pd7/7XQKBAJlMBofD8RTQC4CXmj6/Y/V6nc3NTe7evcvvfve7GbOFM9/0+/2EQiFWV1cpFAqk02kWFhbw+XzEYjEcDgderxdFUXA4HBL0ZDJhNBoxHA7pdrvU63VarRZPnjyh0WjQ6/VoNpscHx/T6/Wo1WoAhMNhEokE3/rWt8hkMiSTSVKpFDabTW7QiwBXp4FYlsX+/j71ep07d+5w+/Ztjo6OmEwmKIqCy+XC6/WytrZGOBzm2rVrxONxstksiUSCQCBAOBzG6XTOgLXb7dK8nU4nqqrK63k8HrxeL8lkklgsRq/XY3l5mW63y/b2Ns1mk52dHcrlMpZl0Ww2efjwIW+//TaZTIZer0c0GmVxcRG/3/9cLc+AttvtmKbJ9vY2Dx484E9/+hO3bt2S2nU6nfj9fpLJJD/5yU9YWlri5s2bZLPZGVDPE0VRAHC73c/8TdxL+Pz9+/epVCr84Q9/4MMPP6RWq1GpVKjX69y/f5+FhQWcTif5fJ54PE4gEJgJxJ8JWphGu91mMBjw6NEjGbAsy5ImGolE+Pa3v00ymWR1dZVUKoXf758B+zJBZfp7Qux2Ow6Hg1gshqqqvPbaawSDQR4/fszm5ib9fp9arUa/3+f+/fu0Wi0WFxfRNI1YLIbP5/vctUjQxWKRWq3Gu+++y61bt5hMJgB4vV7S6TRra2u8+eabpFIp0uk0LpfrmWNI3OSipOazgJ5/F6BVVWVxcRHLsigUCui6znvvvcc777zD7u4uzWaTer3OO++8QyQSIRgMUigU2NjYwO/3P7OmGdBwZk7VapXDw0Pa7TaapsndFr575coVYrEYoVBIHhnn44G4+PMAT8v0Jp2/xrQrOJ1O0uk0hUIBgL29PXq9Hu12m+FwyOHhIaqqsrq6SjKZlHHjIlEBNE3jzp07/Pvf/2Zvb09mQV6vl/X1dd58801isZj0IcuyMAxDmvYXNWcB6qLP0yK0JWLGN7/5TQqFAvfu3cPhcHB0dMTf/vY3ut0uf/zjHwmFQqTTaebm5ojFYoTDYXmd6fuoo9GIwWDAyckJtVqNwWAAgMfjIRqNkkgkSKfThEIhGYlFqvmygF9WRKRPJBIsLCxgmiZer5fxeEy328U0TZk9ejweCfq8qFtbW7RaLba2ttja2mI4HAKwurrKxsYG6+vrZLNZnE4ncJaLi8zrywY8nbtPu1I+n+eXv/wlW1tb7OzsUCqVOD4+ptPp8MEHH9BoNPjZz37G/Pz8xaCbzSatVksWEIZhABAKhcjn8ySTSTweD4qiYBjGc4+DL0um7+nz+cjlcvT7feLxOP1+n0qlwmQyoVqt4nQ6ZZV3kTWqn3zyCd1ul06ng2EY+Hw+nE4nKysrbGxsEI1Gpe++TBn3/yEXnRKKohCJRPj+97/P/v4+lUqFTqfDzs4OtVqNtbU1CoUCkUiEdDo98321XC4zGAwYjUbyXPb7/TJwud1uCfarAj0t07HE6/WyvLyMqqp4vV4AWq0WrVaLcrlMtVpFVVXS6bRMVS3LQj08PGQ4HDIajQCIxWKkUini8Tg+n08eTV+FSZ+X82twu93k83kURSGdTnNyckKn00HTNIrFIh999BGGYXD16tWZ76rHx8eyzLPZbIRCITKZDJFIBLfbPRNILhtwl8tFNpvFZrORSCSIRqOS6KhUKmxubhKPx2eCL4C92+3S6/VkXezz+YhEIni93mfSy8skYk0OhwOXy0U4HCYcDuNyuQA4PT2lWCzSaDRk3Q6fZnvNZhPTNNF1HbvdLjUdCARmLn5ZNC1kuhASZ3c6naZUKgFwcnKCruu88sor9Pt9Ga9sNhv28Xg8Q96pqorb7Z6hYy6jpqdFVVVSqZSs5eEpB2ea5gxvB2Dv9Xr0+31ZYLjdbgKBgDQTIZcN+PT563a7uXnzJt/73vdIp9M4HA4sy5K83fnkRn1mF75AbXxZxG63EwwGmUwmLC0t0Wg0UFUVh8NBKpWSTKoQVdM04KzSEmSbeL/MMr0+h8NBPp8nm83y61//mmazKf9H8GvTiryQDb1spvw8sdlsuFwunE4n8/PzRKNR4AyHoJWnRRW0jfBpXdcZDofPdCa+LuLz+fB4PPLni2pq1eFwyMRc1Mnj8XiGXfy6iM1mm6GDP0tUEQAGg4HU8unpqSwxpy/4dZDpWh8uZnHsHo9n5lwWPaVp8/66AIanldRF57MQNRaLMR6PqVarWJZFt9ul0WjILOY8d3XZxW63zwC9kA1NpVKMRiOZjPR6ParVKv1+/3O/eFnlRSgsNRqN0u/3ZRYzHA7pdDoMh0Mmk4lMVr4OYlmW5O8VRUFRFDwezzOdDzWfz9PtdmXH4fT0VJL/uq4/k81cZjFNk6OjI8rlMm63G5fLRSKRwOfzzdbTsVgMp9MpGZLxeMxgMKDX69HpdPB6vbI6edkOxpctlmVJTmBnZ4cnT57IZKVQKJDJZCQPbrPZUNfX12k2m0QiEZxOJ/1+n06nQ7FYZGdnRzbmLhvo6bUYhkG9XqfZbPLb3/6WP//5z7J5+POf/5yVlRX8fj/BYBAANRAIMB6P8Xq9eL1eeVz1+32azeZMX+gyi2maTCYT+v0+7XZb5tqiAyJils1mw57JZMhmsxQKBdmCBTg+PuYf//gH29vbX4vsTFVVnE6nbAgAjEYjWq0WxWKRer0ucdhFjzgcDsspAoB+v0+9Xuf09BTDMC41cFEZinLS6XRKd9R1nX6/PzNUoMJZaXbjxg28Xi/lclmOSP3rX/8iEAjQaDQIBAL4/f6Zxt1X6dvT9xY0l6IoxGIxotEopmkyHA4ZDAaUy2VcLpdUnApnlUgikWA8HkturNPpYJqmzM4EH34ZRZSWolnh9/tptVoAcpBnMBg8nT2DM3/I5/Ncv36dK1eukM/n8fv9dLtdjo6OeP/99/n4448RhMN5+uWrlPN9aJ/PRygUkm6qaRqtVks2+OBT0IqikEqlWFxcZH5+nlQqhdvtZjQaUalUePDgATs7O7IImZ4Du0xis9lwu934/X6ZVk8mE7rdLsPh8Kmmp4l8RVG4cuUKGxsb5HI54KxNcu/ePR48eMDBwYFslF1WTvy8QoR5T4OeGbRRVZW1tTVCoRDNZpP333+fWq0mu5o//OEPGY1GcidF6XaZiMTzJaWu65yensqqET4NZNPZ1tzcHKlUilwux8rKiiw1u90u9+/fp91uk0qlUFUVVVVnZj2/SuCihh6NRvR6PemKhmHIMU4Zvc8vOp1Ok0qlKJVKNJtNHj16xHvvvUe5XOY3v/kNCwsLLC8vy3kUt9s9w1b8rysysdGmaWIYBp1Oh0ajIScqRCATrWjTNJ9lQ0VFFY1GWV5eptfryWlcMd23t7eHoiisrKwQjUb/52MY58U0TQaDAaIv1+v1ZO9qmgqbTCZMJpOnoKdNHOD69evkcjkymQwHBwc0Gg22t7fpdru89dZbpFIpXn/9ddbX1wkEAni9XkksTm/Cl7EZ0/dRFIXxeMze3h7VapXd3V2KxaI0bzGlUK/X6fV6OByOWU1PL9Dj8eB0Okkmk8zPz2Oz2Tg8PMQwDCqVCrquUyqVSKVSZybz6cDrNF3zv9C+2ICTkxMqlcqMlsXfNU2bGcB9xrynF6yqKteuXeONN97g0aNH6LpOvV6nVqtRq9V46623uHXrFj/+8Y/5zne+QzQalaMOQi7K2V/UCqY7pud5L+GGwo//8pe/8PDhQ4rFInCWWouB+G63y8nJCQcHB7Tb7c+f7BdN+tXVVSaTCalUSg6z9Pt9tre3qVarrKyssLS0hKqqckblPNvyRbV/fjDvIpmO1kdHRxwcHDAYDOTgrcvlkloWNJjNZnt2sv/8jUVUbDab3Lt3j+PjY95++21KpZKcO1tcXCSTybC6usqrr75KOp3m1VdflfzU+RPiZWZHp49E8QRBtVrl3XffpVgs8vvf/55SqSSP0nw+z/z8PNvb29y9e5fV1VV+9atf4ff7n/8Mh9BaPB5nY2ODSqXCxx9/jGVZ1Go1Op0On3zyCVtbW1SrVTRNY3V1lcXFReBstnR67uxl/Xz6e+LsbTQa/POf/+Tw8FCa7vz8POFwmFwuR6FQoN/vyznzer3OcDh8vnmLnRaVTDQa5ac//SmvvfYaCwsLHBwcsLu7S6lUol6v8+GHH7K7u8vu7i5zc3MsLy/j9/vJZrP4fD7m5ubweDy4XC75yINoNAiNivN0NBpJNmQ4HNJut2k0GjSbTfb396nVanz00Ucz7Mj6+jrXrl0jFosRiUQIhUIADIdDjo6OzhobX2SnnU4nkUiEH/3oR2iaxtzcHE+ePME0TarVKvV6naOjI+x2O7dv3yYUCrG+vk48HufmzZvE43GpCVGfC9JRgBZgDcOg3W4zGo1oNBq022329/d5/PgxxWKRu3fvyhaU8FC3282NGzf4wQ9+wGQywTAM+YiTAO10Ol8c9PkNUBRFzpmZpkk2m5WgB4MBjUYDy7IolUq0Wi10XZeT/z6fT3JyYlBGiGmaaJqGYRh0u110XZc8fKPRoFqt0mw2ZX0ci8VwuVwsLy8TiURYW1sjk8nQ7/cZDAbywRnDMKjVamc+/6IghSbEu6qqvPLKK1iWxc2bN2Vu/sEHH3B0dMTf//53+v0+W1tbjMdj7t69CzDzWIOgdqZBC4pH+O30s17CEsRn4TbJZJJf/OIXLC0tUSgUSCQS1Go16vU6gUAAh8OBpmkcHh5enIZ+kU0Qn0U/WMxjCz/q9XpUKpWZIkA8uCZ8d3rc6TwwMacqOHkRB9xuNz6fj2AwyNWrV4lGo+RyOWKxmJx9c7lcBAIBUqkUhUJBUkeWZX3+kfU8OV+7itxW0zTZLPjvf/9Lu91GTBsLc2+327TbbcbjMaPRCNM0GY/Hssdss9nOjhdVJR6PEwwG5TRjKpXi+vXrhMNhrl69isfjkRMHwpLEmjY3N/nrX/9Kt9ulWq1iGMbLaXoaNDydGRWaEN0FVVXlw2R+vx9N0+Tvp2vw6Rp4+kw+z3K63W48Ho+MDeIl/HZ6ulFcX0xLiczMMAz+Dzkvf+dGCO19AAAAAElFTkSuQmCC\" y=\"-163.64\"/>\n",
       "   </g>\n",
       "   <g id=\"matplotlib.axis_17\"/>\n",
       "   <g id=\"matplotlib.axis_18\"/>\n",
       "   <g id=\"patch_43\">\n",
       "    <path d=\"M 252.5 224.64 \n",
       "L 252.5 164.24 \n",
       "\" style=\"fill:none;stroke:#000000;stroke-linecap:square;stroke-linejoin:miter;stroke-width:0.8;\"/>\n",
       "   </g>\n",
       "   <g id=\"patch_44\">\n",
       "    <path d=\"M 312.9 224.64 \n",
       "L 312.9 164.24 \n",
       "\" style=\"fill:none;stroke:#000000;stroke-linecap:square;stroke-linejoin:miter;stroke-width:0.8;\"/>\n",
       "   </g>\n",
       "   <g id=\"patch_45\">\n",
       "    <path d=\"M 252.5 224.64 \n",
       "L 312.9 224.64 \n",
       "\" style=\"fill:none;stroke:#000000;stroke-linecap:square;stroke-linejoin:miter;stroke-width:0.8;\"/>\n",
       "   </g>\n",
       "   <g id=\"patch_46\">\n",
       "    <path d=\"M 252.5 164.24 \n",
       "L 312.9 164.24 \n",
       "\" style=\"fill:none;stroke:#000000;stroke-linecap:square;stroke-linejoin:miter;stroke-width:0.8;\"/>\n",
       "   </g>\n",
       "  </g>\n",
       " </g>\n",
       " <defs>\n",
       "  <clipPath id=\"pfa691d60de\">\n",
       "   <rect height=\"60.4\" width=\"60.4\" x=\"10.7\" y=\"7.2\"/>\n",
       "  </clipPath>\n",
       "  <clipPath id=\"p8ca644ca85\">\n",
       "   <rect height=\"60.4\" width=\"60.4\" x=\"131.6\" y=\"7.2\"/>\n",
       "  </clipPath>\n",
       "  <clipPath id=\"pb1d98dce8d\">\n",
       "   <rect height=\"60.4\" width=\"60.4\" x=\"252.5\" y=\"7.2\"/>\n",
       "  </clipPath>\n",
       "  <clipPath id=\"p7aac7a4bc1\">\n",
       "   <rect height=\"60.4\" width=\"60.4\" x=\"10.7\" y=\"85.72\"/>\n",
       "  </clipPath>\n",
       "  <clipPath id=\"p0f3110b2c9\">\n",
       "   <rect height=\"60.4\" width=\"60.4\" x=\"131.6\" y=\"85.72\"/>\n",
       "  </clipPath>\n",
       "  <clipPath id=\"p1b470dea19\">\n",
       "   <rect height=\"60.4\" width=\"60.4\" x=\"252.5\" y=\"85.72\"/>\n",
       "  </clipPath>\n",
       "  <clipPath id=\"p0c1e7c5bc9\">\n",
       "   <rect height=\"60.4\" width=\"60.4\" x=\"10.7\" y=\"164.24\"/>\n",
       "  </clipPath>\n",
       "  <clipPath id=\"pced93d79c6\">\n",
       "   <rect height=\"60.4\" width=\"60.4\" x=\"131.6\" y=\"164.24\"/>\n",
       "  </clipPath>\n",
       "  <clipPath id=\"pbfa2d7e07d\">\n",
       "   <rect height=\"60.4\" width=\"60.4\" x=\"252.5\" y=\"164.24\"/>\n",
       "  </clipPath>\n",
       " </defs>\n",
       "</svg>\n"
      ],
      "text/plain": [
       "<Figure size 432x288 with 9 Axes>"
      ]
     },
     "metadata": {},
     "output_type": "display_data"
    },
    {
     "data": {
      "text/plain": [
       "' PLEASE comment any print/plot function in this block on submission '"
      ]
     },
     "execution_count": 37,
     "metadata": {},
     "output_type": "execute_result"
    }
   ],
   "source": [
    "print(__doc__)\n",
    "images = train_dataset\n",
    "\n",
    "fig, axes = plt.subplots(3, 3)\n",
    "fig.subplots_adjust(hspace=0.3, wspace=0.3)\n",
    "for i, ax in enumerate(axes.flat):\n",
    "        # Plot image.\n",
    "    ax.imshow(images[i].reshape([28, 28]), cmap='binary')               \n",
    "        \n",
    "        # Remove ticks from the plot.\n",
    "    ax.set_xticks([])\n",
    "    ax.set_yticks([])\n",
    "        \n",
    "    # Ensure the plot is shown correctly with multiple plots\n",
    "    # in a single Notebook cell.\n",
    "plt.show()\n",
    "\"\"\" PLEASE comment any print/plot function in this block on submission \"\"\""
   ]
  },
  {
   "cell_type": "markdown",
   "metadata": {
    "colab_type": "text",
    "id": "tIQJaJuwg5Hw"
   },
   "source": [
    "Finally, let's save the data for later reuse:"
   ]
  },
  {
   "cell_type": "code",
   "execution_count": 38,
   "metadata": {
    "cellView": "both",
    "colab": {
     "autoexec": {
      "startup": false,
      "wait_interval": 0
     }
    },
    "colab_type": "code",
    "id": "QiR_rETzem6C"
   },
   "outputs": [],
   "source": [
    "pickle_file = os.path.join(data_root, 'notMNIST.pickle')\n",
    "\n",
    "try:\n",
    "    f = open(pickle_file, 'wb')\n",
    "    save = {\n",
    "        'train_dataset': train_dataset,\n",
    "        'train_labels': train_labels,\n",
    "        'valid_dataset': valid_dataset,\n",
    "        'valid_labels': valid_labels,\n",
    "        'test_dataset': test_dataset,\n",
    "        'test_labels': test_labels,\n",
    "    }\n",
    "    pickle.dump(save, f, pickle.HIGHEST_PROTOCOL)\n",
    "    f.close()\n",
    "except Exception as e:\n",
    "    print('Unable to save data to', pickle_file, ':', e)\n",
    "    raise"
   ]
  },
  {
   "cell_type": "code",
   "execution_count": 39,
   "metadata": {
    "cellView": "both",
    "colab": {
     "autoexec": {
      "startup": false,
      "wait_interval": 0
     },
     "output_extras": [
      {
       "item_id": 1
      }
     ]
    },
    "colab_type": "code",
    "executionInfo": {
     "elapsed": 413065,
     "status": "ok",
     "timestamp": 1444485899688,
     "user": {
      "color": "#1FA15D",
      "displayName": "Vincent Vanhoucke",
      "isAnonymous": false,
      "isMe": true,
      "permissionId": "05076109866853157986",
      "photoUrl": "//lh6.googleusercontent.com/-cCJa7dTDcgQ/AAAAAAAAAAI/AAAAAAAACgw/r2EZ_8oYer4/s50-c-k-no/photo.jpg",
      "sessionId": "2a0a5e044bb03b66",
      "userId": "102167687554210253930"
     },
     "user_tz": 420
    },
    "id": "hQbLjrW_iT39",
    "outputId": "b440efc6-5ee1-4cbc-d02d-93db44ebd956",
    "tags": []
   },
   "outputs": [
    {
     "name": "stdout",
     "output_type": "stream",
     "text": [
      "Compressed pickle size: 690800438\n"
     ]
    }
   ],
   "source": [
    "statinfo = os.stat(pickle_file)\n",
    "print('Compressed pickle size:', statinfo.st_size)"
   ]
  },
  {
   "cell_type": "markdown",
   "metadata": {
    "colab_type": "text",
    "id": "gE_cRAQB33lk"
   },
   "source": [
    "---\n",
    "Exercise 5\n",
    "---------\n",
    "\n",
    "By construction, this dataset might contain a lot of overlapping samples, including training data that's also contained in the validation and test set! Overlap between training and test can skew the results if you expect to use your model in an environment where there is never an overlap, but are actually ok if you expect to see training samples recur when you use it.\n",
    "Measure how much overlap there is between training, validation and test samples.\n",
    "\n",
    "Important Hint: Since the size of the dataset is large, it demands much time to search and compare. Using *hash, set* function in python may help.\n",
    "\n",
    "Optional questions:\n",
    "- What about near duplicates between datasets? (images that are almost identical)\n",
    "- Create a sanitized validation and test set, and compare your accuracy on those in subsequent assignments.\n",
    "---"
   ]
  },
  {
   "cell_type": "code",
   "execution_count": 40,
   "metadata": {
    "tags": []
   },
   "outputs": [
    {
     "name": "stdout",
     "output_type": "stream",
     "text": [
      "Use Image(filename=sample)\n",
      "    PLEASE comment the Image function in this block on submission \n"
     ]
    },
    {
     "data": {
      "text/plain": [
       "' PLEASE comment any print/plot function in this block on submission '"
      ]
     },
     "execution_count": 40,
     "metadata": {},
     "output_type": "execute_result"
    }
   ],
   "source": [
    "print(__doc__)\n",
    "\"\"\" PLEASE comment any print/plot function in this block on submission \"\"\""
   ]
  },
  {
   "cell_type": "code",
   "execution_count": 41,
   "metadata": {
    "jupyter": {
     "source_hidden": true
    },
    "tags": []
   },
   "outputs": [
    {
     "name": "stdout",
     "output_type": "stream",
     "text": [
      "Use Image(filename=sample)\n",
      "    PLEASE comment the Image function in this block on submission \n",
      "Duplicates inside training set:  12692\n",
      "Duplicates between training and validation:  956\n",
      "Duplicates between training and test:  1100\n"
     ]
    }
   ],
   "source": [
    " print(__doc__)\n",
    "\"\"\" PLEASE comment any print/plot function in this block on submission \"\"\"\n",
    "\n",
    "train_dataset.flags.writeable = False\n",
    "valid_dataset.flags.writeable = False\n",
    "test_dataset.flags.writeable = False\n",
    "\n",
    "train_hash = [hash(e.tobytes()) for e in train_dataset]\n",
    "valid_hash = [hash(e.tobytes()) for e in valid_dataset]\n",
    "test_hash = [hash(e.tobytes()) for e in test_dataset]\n",
    "\n",
    "unique_train_hash = set(train_hash)\n",
    "valid_overlap = unique_train_hash.intersection(set(valid_hash))\n",
    "test_overlap = unique_train_hash.intersection(set(test_hash))\n",
    "\n",
    "print('Duplicates inside training set: ', len(train_hash) - len(unique_train_hash))\n",
    "print('Duplicates between training and validation: ', len(valid_overlap))\n",
    "print('Duplicates between training and test: ', len(test_overlap))"
   ]
  },
  {
   "cell_type": "markdown",
   "metadata": {
    "colab_type": "text",
    "id": "L8oww1s4JMQx"
   },
   "source": [
    "---\n",
    "Problem\n",
    "---------\n",
    "\n",
    "Let's get an idea of what an off-the-shelf classifier can give you on this data. It's always good to check that there is something to learn, and that it's a problem that is not so trivial that a canned solution solves it.\n",
    "\n",
    "Train a simple model on this data using <font color='red'>$100,\\ 500,\\ 2500,\\ and\\ 10000$</font> training samples. *Hint*: Use LogisticRegression model from sklearn.linear_model. You do not need to care about FutureWarning in sklearn.\n",
    "\n",
    "**Evaluation**: Demonstration of training results from different sizes of dataset with test data.\n",
    "\n",
    "---"
   ]
  },
  {
   "cell_type": "code",
   "execution_count": null,
   "metadata": {},
   "outputs": [],
   "source": [
    "print(__doc__)\n",
    "\"\"\" TODO \"\"\""
   ]
  },
  {
   "cell_type": "code",
   "execution_count": 70,
   "metadata": {
    "tags": []
   },
   "outputs": [
    {
     "name": "stdout",
     "output_type": "stream",
     "text": [
      "100 data training, Accuracy :  0.42\n",
      "500 data training, Accuracy :  0.452\n",
      "2500 data training, Accuracy :  0.476\n",
      "10000 data training, Accuracy :  0.4781\n"
     ]
    }
   ],
   "source": [
    "from sklearn.linear_model import LogisticRegression\n",
    "from sklearn.preprocessing import StandardScaler\n",
    "from sklearn.metrics import accuracy_score\n",
    "\n",
    "scaler = StandardScaler()\n",
    "\n",
    "data_root = \"/home/jackyoung96/2020_2/Deeplearning_assignment/HW1_data/notMNIST.pickle\"\n",
    "with open(data_root, 'rb') as f:\n",
    "    save = pickle.load(f)\n",
    "    \n",
    "\n",
    "\n",
    "data_size = [100,500,2500,10000]\n",
    "\n",
    "for size in data_size:\n",
    "    train_dataset = save['train_dataset']\n",
    "    train_label = save['train_labels']\n",
    "    test_dataset = save['test_dataset']\n",
    "    test_label = save['test_labels']\n",
    "    train_dataset = train_dataset[0:size,-1]\n",
    "    train_label = train_label[0:size]\n",
    "    test_dataset = test_dataset[0:size,-1]\n",
    "    test_label = test_label[0:size]\n",
    "    train_dataset = scaler.fit_transform(train_dataset)\n",
    "    test_dataset = scaler.fit_transform(test_dataset)\n",
    "    \n",
    "\n",
    "    my_model = LogisticRegression()\n",
    "    my_model.fit(train_dataset, train_label)\n",
    "    prediction = my_model.predict(test_dataset)\n",
    "    print(\"{} data training, Accuracy : \".format(size), my_model.score(test_dataset, test_label))\n",
    "\n",
    "    "
   ]
  },
  {
   "cell_type": "markdown",
   "metadata": {},
   "source": [
    "# As data size increase, we can see that the score of logistic regression is increasing!!!"
   ]
  },
  {
   "cell_type": "code",
   "execution_count": null,
   "metadata": {},
   "outputs": [],
   "source": []
  }
 ],
 "metadata": {
  "colab": {
   "default_view": {},
   "name": "1_notmnist.ipynb",
   "provenance": [],
   "version": "0.3.2",
   "views": {}
  },
  "kernelspec": {
   "display_name": "Python 3",
   "language": "python",
   "name": "python3"
  },
  "language_info": {
   "codemirror_mode": {
    "name": "ipython",
    "version": 3
   },
   "file_extension": ".py",
   "mimetype": "text/x-python",
   "name": "python",
   "nbconvert_exporter": "python",
   "pygments_lexer": "ipython3",
   "version": "3.7.6"
  }
 },
 "nbformat": 4,
 "nbformat_minor": 4
}
